{
 "cells": [
  {
   "cell_type": "code",
   "execution_count": 18,
   "metadata": {
    "collapsed": true
   },
   "outputs": [],
   "source": [
    "import random\n",
    "from base64 import b64decode\n",
    "from json import loads\n",
    "import numpy as np\n",
    "import matplotlib.pyplot as plt\n",
    "%matplotlib inline\n",
    "from sklearn.cluster import KMeans\n",
    "import sklearn\n",
    "from scipy.stats import mode\n",
    "from sklearn.metrics import confusion_matrix\n",
    "import seaborn as sns; sns.set()"
   ]
  },
  {
   "cell_type": "code",
   "execution_count": 19,
   "metadata": {
    "collapsed": true
   },
   "outputs": [],
   "source": [
    "def ler(x):\n",
    "\n",
    "    digit = loads(x)\n",
    "    array = np.fromstring(b64decode(digit[\"data\"]),dtype=np.ubyte)\n",
    "    array = array.astype(np.float64)\n",
    "    return (digit[\"label\"], array)"
   ]
  },
  {
   "cell_type": "code",
   "execution_count": 20,
   "metadata": {
    "collapsed": true
   },
   "outputs": [],
   "source": [
    "with open(\"digits.base64.json\",\"r\") as f:\n",
    "    digits = map(ler, f.readlines())\n",
    "digits=list(digits)"
   ]
  },
  {
   "cell_type": "code",
   "execution_count": 21,
   "metadata": {
    "collapsed": true
   },
   "outputs": [],
   "source": [
    "def display_digit(digit, labeled = True, title = \"\"):\n",
    "    if labeled:\n",
    "        digit = digit[1]\n",
    "    image = digit\n",
    "    plt.figure()\n",
    "    fig = plt.imshow(image.reshape(28,28))\n",
    "    fig.set_cmap('gray_r')\n",
    "    fig.axes.get_xaxis().set_visible(False)\n",
    "    fig.axes.get_yaxis().set_visible(False)\n",
    "    if title != \"\":\n",
    "        plt.title(\"Inferred label: \" + str(title))"
   ]
  },
  {
   "cell_type": "code",
   "execution_count": 22,
   "metadata": {
    "collapsed": true
   },
   "outputs": [],
   "source": [
    "new_digits=[]\n",
    "cont=0\n",
    "while cont<len(digits):\n",
    "    new_digits.append(digits[cont][1])\n",
    "    cont+=1"
   ]
  },
  {
   "cell_type": "code",
   "execution_count": 23,
   "metadata": {
    "collapsed": true
   },
   "outputs": [],
   "source": [
    "digits_treino=digits[:len(digits)*5//6]\n",
    "digits_val=digits[len(digits)*5//6:]\n",
    "new_digits_treino=new_digits[:len(new_digits)*5//6]\n",
    "new_digits_val=new_digits[len(new_digits)*5//6:]"
   ]
  },
  {
   "cell_type": "code",
   "execution_count": 24,
   "metadata": {
    "collapsed": true
   },
   "outputs": [],
   "source": [
    "r=[]\n",
    "y=[]\n",
    "cont=0\n",
    "while cont<len(digits):\n",
    "    r.append(digits[cont][0])\n",
    "    cont+=1\n",
    "y=[[[0] for i in np.arange(0,10)] for j in np.arange(0,60000)]\n",
    "cont=0\n",
    "while cont<len(digits):\n",
    "    y[cont][r[cont]][0]=1\n",
    "    cont+=1"
   ]
  },
  {
   "cell_type": "markdown",
   "metadata": {},
   "source": [
    "Preparations"
   ]
  },
  {
   "cell_type": "code",
   "execution_count": 25,
   "metadata": {
    "collapsed": true
   },
   "outputs": [],
   "source": [
    "cont=0\n",
    "while cont<60000:\n",
    "    y[cont]=np.matrix(y[cont])\n",
    "    cont+=1"
   ]
  },
  {
   "cell_type": "code",
   "execution_count": 26,
   "metadata": {
    "collapsed": true
   },
   "outputs": [],
   "source": [
    "cont=0\n",
    "while cont<60000:\n",
    "    new_digits[cont].resize(784,1)\n",
    "    new_digits[cont]=np.matrix(new_digits[cont])\n",
    "    cont+=1"
   ]
  },
  {
   "cell_type": "markdown",
   "metadata": {},
   "source": [
    "Neural Network"
   ]
  },
  {
   "cell_type": "code",
   "execution_count": 27,
   "metadata": {
    "collapsed": true
   },
   "outputs": [],
   "source": [
    "n1=784\n",
    "n2=30\n",
    "n3=10\n",
    "size=[n1,n2,n3]"
   ]
  },
  {
   "cell_type": "code",
   "execution_count": 28,
   "metadata": {
    "collapsed": true
   },
   "outputs": [],
   "source": [
    "def sig(x, deriv=False):\n",
    "    if deriv:\n",
    "        return np.multiply(sig(x),(1-sig(x)))\n",
    "    return 1/(1+np.exp(-x))"
   ]
  },
  {
   "cell_type": "code",
   "execution_count": 29,
   "metadata": {
    "collapsed": true
   },
   "outputs": [],
   "source": [
    "def feedforward(i,w,b):\n",
    "    z = []\n",
    "    a = []\n",
    "    a.append(i)\n",
    "    cont=0\n",
    "    while cont<2:\n",
    "        dp = np.dot(w[cont],a[cont])\n",
    "        z.append(np.add(dp,b[cont]))\n",
    "        var = sig(z[cont])\n",
    "        a.append(var)\n",
    "        cont+=1\n",
    "    return a,z"
   ]
  },
  {
   "cell_type": "code",
   "execution_count": 30,
   "metadata": {
    "collapsed": true
   },
   "outputs": [],
   "source": [
    "def custox(a, cont):\n",
    "    var = np.subtract(a[2],y[cont])\n",
    "    var = np.linalg.norm(var)\n",
    "    cx = (var**2)/2\n",
    "    return cx"
   ]
  },
  {
   "cell_type": "code",
   "execution_count": 31,
   "metadata": {
    "collapsed": true
   },
   "outputs": [],
   "source": [
    "def BP(a,z,cont):\n",
    "    delta=[0,0]\n",
    "    #BP1\n",
    "    var=np.subtract(a[2],y[cont])\n",
    "    var2=sig(z[1],deriv=True)\n",
    "    delta[1]=np.multiply(var,var2)\n",
    "    #BP2\n",
    "    var=np.dot(w[1].getT(),delta[1])\n",
    "    var2=sig(z[0],deriv=True)\n",
    "    delta[0]=np.multiply(var,var2)\n",
    "    #BP3\n",
    "    deriv_b=[]\n",
    "    deriv_b.append(delta[0])\n",
    "    deriv_b.append(delta[1])\n",
    "    #BP4\n",
    "    deriv_w = []\n",
    "    deriv_w.append(np.dot(delta[0],a[0].getT()))\n",
    "    deriv_w.append(np.dot(delta[1],a[1].getT()))\n",
    "    return deriv_w, deriv_b"
   ]
  },
  {
   "cell_type": "code",
   "execution_count": 32,
   "metadata": {
    "collapsed": true
   },
   "outputs": [],
   "source": [
    "def mini_batch(l,w,b):\n",
    "    l_deriv_w0=[]\n",
    "    l_deriv_w1=[]\n",
    "    l_deriv_b0=[]\n",
    "    l_deriv_b1=[]\n",
    "    cont=0\n",
    "    while cont<len(l):\n",
    "        i=new_digits[l[cont]]\n",
    "        a,z = feedforward(i,w,b)\n",
    "        deriv_w, deriv_b = BP(a,z,l[cont])\n",
    "        l_deriv_w0.append(deriv_w[0])\n",
    "        l_deriv_w1.append(deriv_w[1])\n",
    "        l_deriv_b0.append(deriv_b[0])\n",
    "        l_deriv_b1.append(deriv_b[1])\n",
    "        cont+=1\n",
    "    return l_deriv_w0,l_deriv_w1, l_deriv_b0, l_deriv_b1\n",
    "        "
   ]
  },
  {
   "cell_type": "code",
   "execution_count": 33,
   "metadata": {
    "collapsed": true
   },
   "outputs": [],
   "source": [
    "def epoch(eta,w,b):\n",
    "    passo=0\n",
    "    todos=np.arange(0,50000)\n",
    "    np.random.shuffle(todos)\n",
    "    while len(todos) != 0:\n",
    "        l_deriv_w0,l_deriv_w1, l_deriv_b0, l_deriv_b1 = mini_batch(todos[:100],w,b)\n",
    "        todos=todos[100:]\n",
    "        mean_deriv_w0=l_deriv_w0[0]\n",
    "        mean_deriv_w1=l_deriv_w1[0]\n",
    "        mean_deriv_b0=l_deriv_b0[0]\n",
    "        mean_deriv_b1=l_deriv_b1[0]\n",
    "        cont=1\n",
    "        while cont < len(l_deriv_w0):\n",
    "            mean_deriv_w0 = np.add(mean_deriv_w0,l_deriv_w0[cont])\n",
    "            mean_deriv_w1 = np.add(mean_deriv_w1,l_deriv_w1[cont])\n",
    "            mean_deriv_b0 = np.add(mean_deriv_b0,l_deriv_b0[cont])\n",
    "            mean_deriv_b1 = np.add(mean_deriv_b1,l_deriv_b1[cont])\n",
    "            cont+=1\n",
    "        mean_deriv_w0 = np.multiply(eta/len(l_deriv_w0),mean_deriv_w0)\n",
    "        mean_deriv_w1 = np.multiply(eta/len(l_deriv_w1),mean_deriv_w1)\n",
    "        mean_deriv_b0 = np.multiply(eta/len(l_deriv_b0),mean_deriv_b0)\n",
    "        mean_deriv_b1 = np.multiply(eta/len(l_deriv_b1),mean_deriv_b1)\n",
    "        \n",
    "        w[0] = np.subtract(w[0],mean_deriv_w0)\n",
    "        w[1] = np.subtract(w[1],mean_deriv_w1)\n",
    "        b[0] = np.subtract(b[0],mean_deriv_b0)\n",
    "        b[1] = np.subtract(b[1],mean_deriv_b1)\n",
    "        passo+=100\n",
    "    return w,b"
   ]
  },
  {
   "cell_type": "code",
   "execution_count": 53,
   "metadata": {
    "collapsed": true
   },
   "outputs": [],
   "source": [
    "def testa(w,b):\n",
    "    cont=0\n",
    "    acertos=0\n",
    "    while cont<10000:\n",
    "        i=new_digits[cont+50000]\n",
    "        a,z=feedforward(i,w,b)\n",
    "        cont2=0\n",
    "        m=max(a[2])\n",
    "        while cont2<10:\n",
    "            if m==a[2][cont2]:\n",
    "                break\n",
    "            cont2+=1\n",
    "        if cont2==r[cont+50000]:\n",
    "            acertos+=1\n",
    "        cont+=1\n",
    "    return acertos\n",
    "        \n",
    "            "
   ]
  },
  {
   "cell_type": "code",
   "execution_count": 74,
   "metadata": {},
   "outputs": [
    {
     "name": "stderr",
     "output_type": "stream",
     "text": [
      "C:\\Users\\User-pc\\Anaconda\\lib\\site-packages\\ipykernel_launcher.py:4: RuntimeWarning: overflow encountered in exp\n",
      "  after removing the cwd from sys.path.\n"
     ]
    },
    {
     "ename": "KeyboardInterrupt",
     "evalue": "",
     "output_type": "error",
     "traceback": [
      "\u001b[1;31m---------------------------------------------------------------------------\u001b[0m",
      "\u001b[1;31mKeyboardInterrupt\u001b[0m                         Traceback (most recent call last)",
      "\u001b[1;32m<ipython-input-74-c00358a878f8>\u001b[0m in \u001b[0;36m<module>\u001b[1;34m()\u001b[0m\n\u001b[0;32m     17\u001b[0m \u001b[0mcont\u001b[0m\u001b[1;33m=\u001b[0m\u001b[1;36m0\u001b[0m\u001b[1;33m\u001b[0m\u001b[0m\n\u001b[0;32m     18\u001b[0m \u001b[1;32mwhile\u001b[0m \u001b[0mcont\u001b[0m\u001b[1;33m<\u001b[0m\u001b[1;36m10000\u001b[0m\u001b[1;33m:\u001b[0m\u001b[1;33m\u001b[0m\u001b[0m\n\u001b[1;32m---> 19\u001b[1;33m     \u001b[0mw\u001b[0m\u001b[1;33m,\u001b[0m\u001b[0mb\u001b[0m\u001b[1;33m=\u001b[0m\u001b[0mepoch\u001b[0m\u001b[1;33m(\u001b[0m\u001b[1;36m0.3\u001b[0m\u001b[1;33m,\u001b[0m\u001b[0mw\u001b[0m\u001b[1;33m,\u001b[0m\u001b[0mb\u001b[0m\u001b[1;33m)\u001b[0m\u001b[1;33m\u001b[0m\u001b[0m\n\u001b[0m\u001b[0;32m     20\u001b[0m     \u001b[0mef\u001b[0m\u001b[1;33m.\u001b[0m\u001b[0mappend\u001b[0m\u001b[1;33m(\u001b[0m\u001b[0mtesta\u001b[0m\u001b[1;33m(\u001b[0m\u001b[0mw\u001b[0m\u001b[1;33m,\u001b[0m\u001b[0mb\u001b[0m\u001b[1;33m)\u001b[0m\u001b[1;33m/\u001b[0m\u001b[1;36m10000\u001b[0m\u001b[1;33m)\u001b[0m\u001b[1;33m\u001b[0m\u001b[0m\n\u001b[0;32m     21\u001b[0m     \u001b[0mconts\u001b[0m\u001b[1;33m.\u001b[0m\u001b[0mappend\u001b[0m\u001b[1;33m(\u001b[0m\u001b[0mcont\u001b[0m\u001b[1;33m)\u001b[0m\u001b[1;33m\u001b[0m\u001b[0m\n",
      "\u001b[1;32m<ipython-input-33-ce247a0b9417>\u001b[0m in \u001b[0;36mepoch\u001b[1;34m(eta, w, b)\u001b[0m\n\u001b[0;32m     12\u001b[0m         \u001b[0mcont\u001b[0m\u001b[1;33m=\u001b[0m\u001b[1;36m1\u001b[0m\u001b[1;33m\u001b[0m\u001b[0m\n\u001b[0;32m     13\u001b[0m         \u001b[1;32mwhile\u001b[0m \u001b[0mcont\u001b[0m \u001b[1;33m<\u001b[0m \u001b[0mlen\u001b[0m\u001b[1;33m(\u001b[0m\u001b[0ml_deriv_w0\u001b[0m\u001b[1;33m)\u001b[0m\u001b[1;33m:\u001b[0m\u001b[1;33m\u001b[0m\u001b[0m\n\u001b[1;32m---> 14\u001b[1;33m             \u001b[0mmean_deriv_w0\u001b[0m \u001b[1;33m=\u001b[0m \u001b[0mnp\u001b[0m\u001b[1;33m.\u001b[0m\u001b[0madd\u001b[0m\u001b[1;33m(\u001b[0m\u001b[0mmean_deriv_w0\u001b[0m\u001b[1;33m,\u001b[0m\u001b[0ml_deriv_w0\u001b[0m\u001b[1;33m[\u001b[0m\u001b[0mcont\u001b[0m\u001b[1;33m]\u001b[0m\u001b[1;33m)\u001b[0m\u001b[1;33m\u001b[0m\u001b[0m\n\u001b[0m\u001b[0;32m     15\u001b[0m             \u001b[0mmean_deriv_w1\u001b[0m \u001b[1;33m=\u001b[0m \u001b[0mnp\u001b[0m\u001b[1;33m.\u001b[0m\u001b[0madd\u001b[0m\u001b[1;33m(\u001b[0m\u001b[0mmean_deriv_w1\u001b[0m\u001b[1;33m,\u001b[0m\u001b[0ml_deriv_w1\u001b[0m\u001b[1;33m[\u001b[0m\u001b[0mcont\u001b[0m\u001b[1;33m]\u001b[0m\u001b[1;33m)\u001b[0m\u001b[1;33m\u001b[0m\u001b[0m\n\u001b[0;32m     16\u001b[0m             \u001b[0mmean_deriv_b0\u001b[0m \u001b[1;33m=\u001b[0m \u001b[0mnp\u001b[0m\u001b[1;33m.\u001b[0m\u001b[0madd\u001b[0m\u001b[1;33m(\u001b[0m\u001b[0mmean_deriv_b0\u001b[0m\u001b[1;33m,\u001b[0m\u001b[0ml_deriv_b0\u001b[0m\u001b[1;33m[\u001b[0m\u001b[0mcont\u001b[0m\u001b[1;33m]\u001b[0m\u001b[1;33m)\u001b[0m\u001b[1;33m\u001b[0m\u001b[0m\n",
      "\u001b[1;31mKeyboardInterrupt\u001b[0m: "
     ]
    }
   ],
   "source": [
    "ef=[]\n",
    "conts=[]\n",
    "w=[]\n",
    "b=[]\n",
    "w0 = np.random.randn(30,784)\n",
    "w0=np.matrix(w0)\n",
    "w1 = np.random.randn(10,30)\n",
    "w1=np.matrix(w1)\n",
    "w.append(w0)\n",
    "w.append(w1)\n",
    "b0 = np.random.randn(30,1)\n",
    "b0=np.matrix(b0)\n",
    "b1 = np.random.randn(10,1)\n",
    "b1=np.matrix(b1)\n",
    "b.append(b0)\n",
    "b.append(b1)\n",
    "cont=0\n",
    "while cont<10000:\n",
    "    w,b=epoch(0.3,w,b)\n",
    "    ef.append(testa(w,b)/10000)\n",
    "    conts.append(cont)\n",
    "    cont+=1"
   ]
  },
  {
   "cell_type": "code",
   "execution_count": 69,
   "metadata": {},
   "outputs": [
    {
     "name": "stderr",
     "output_type": "stream",
     "text": [
      "C:\\Users\\User-pc\\Anaconda\\lib\\site-packages\\ipykernel_launcher.py:4: RuntimeWarning: overflow encountered in exp\n",
      "  after removing the cwd from sys.path.\n"
     ]
    },
    {
     "ename": "KeyboardInterrupt",
     "evalue": "",
     "output_type": "error",
     "traceback": [
      "\u001b[1;31m---------------------------------------------------------------------------\u001b[0m",
      "\u001b[1;31mKeyboardInterrupt\u001b[0m                         Traceback (most recent call last)",
      "\u001b[1;32m<ipython-input-69-e017ea4b7d59>\u001b[0m in \u001b[0;36m<module>\u001b[1;34m()\u001b[0m\n\u001b[0;32m      1\u001b[0m \u001b[1;32mwhile\u001b[0m \u001b[0mcont\u001b[0m\u001b[1;33m<\u001b[0m\u001b[1;36m1000\u001b[0m\u001b[1;33m:\u001b[0m\u001b[1;33m\u001b[0m\u001b[0m\n\u001b[1;32m----> 2\u001b[1;33m     \u001b[0mw\u001b[0m\u001b[1;33m,\u001b[0m\u001b[0mb\u001b[0m\u001b[1;33m=\u001b[0m\u001b[0mepoch\u001b[0m\u001b[1;33m(\u001b[0m\u001b[1;36m0.3\u001b[0m\u001b[1;33m,\u001b[0m\u001b[0mw\u001b[0m\u001b[1;33m,\u001b[0m\u001b[0mb\u001b[0m\u001b[1;33m)\u001b[0m\u001b[1;33m\u001b[0m\u001b[0m\n\u001b[0m\u001b[0;32m      3\u001b[0m     \u001b[0mef\u001b[0m\u001b[1;33m.\u001b[0m\u001b[0mappend\u001b[0m\u001b[1;33m(\u001b[0m\u001b[0mtesta\u001b[0m\u001b[1;33m(\u001b[0m\u001b[0mw\u001b[0m\u001b[1;33m,\u001b[0m\u001b[0mb\u001b[0m\u001b[1;33m)\u001b[0m\u001b[1;33m/\u001b[0m\u001b[1;36m10000\u001b[0m\u001b[1;33m)\u001b[0m\u001b[1;33m\u001b[0m\u001b[0m\n\u001b[0;32m      4\u001b[0m     \u001b[0mconts\u001b[0m\u001b[1;33m.\u001b[0m\u001b[0mappend\u001b[0m\u001b[1;33m(\u001b[0m\u001b[0mcont\u001b[0m\u001b[1;33m)\u001b[0m\u001b[1;33m\u001b[0m\u001b[0m\n\u001b[0;32m      5\u001b[0m     \u001b[0mcont\u001b[0m\u001b[1;33m+=\u001b[0m\u001b[1;36m1\u001b[0m\u001b[1;33m\u001b[0m\u001b[0m\n",
      "\u001b[1;32m<ipython-input-33-ce247a0b9417>\u001b[0m in \u001b[0;36mepoch\u001b[1;34m(eta, w, b)\u001b[0m\n\u001b[0;32m      4\u001b[0m     \u001b[0mnp\u001b[0m\u001b[1;33m.\u001b[0m\u001b[0mrandom\u001b[0m\u001b[1;33m.\u001b[0m\u001b[0mshuffle\u001b[0m\u001b[1;33m(\u001b[0m\u001b[0mtodos\u001b[0m\u001b[1;33m)\u001b[0m\u001b[1;33m\u001b[0m\u001b[0m\n\u001b[0;32m      5\u001b[0m     \u001b[1;32mwhile\u001b[0m \u001b[0mlen\u001b[0m\u001b[1;33m(\u001b[0m\u001b[0mtodos\u001b[0m\u001b[1;33m)\u001b[0m \u001b[1;33m!=\u001b[0m \u001b[1;36m0\u001b[0m\u001b[1;33m:\u001b[0m\u001b[1;33m\u001b[0m\u001b[0m\n\u001b[1;32m----> 6\u001b[1;33m         \u001b[0ml_deriv_w0\u001b[0m\u001b[1;33m,\u001b[0m\u001b[0ml_deriv_w1\u001b[0m\u001b[1;33m,\u001b[0m \u001b[0ml_deriv_b0\u001b[0m\u001b[1;33m,\u001b[0m \u001b[0ml_deriv_b1\u001b[0m \u001b[1;33m=\u001b[0m \u001b[0mmini_batch\u001b[0m\u001b[1;33m(\u001b[0m\u001b[0mtodos\u001b[0m\u001b[1;33m[\u001b[0m\u001b[1;33m:\u001b[0m\u001b[1;36m100\u001b[0m\u001b[1;33m]\u001b[0m\u001b[1;33m,\u001b[0m\u001b[0mw\u001b[0m\u001b[1;33m,\u001b[0m\u001b[0mb\u001b[0m\u001b[1;33m)\u001b[0m\u001b[1;33m\u001b[0m\u001b[0m\n\u001b[0m\u001b[0;32m      7\u001b[0m         \u001b[0mtodos\u001b[0m\u001b[1;33m=\u001b[0m\u001b[0mtodos\u001b[0m\u001b[1;33m[\u001b[0m\u001b[1;36m100\u001b[0m\u001b[1;33m:\u001b[0m\u001b[1;33m]\u001b[0m\u001b[1;33m\u001b[0m\u001b[0m\n\u001b[0;32m      8\u001b[0m         \u001b[0mmean_deriv_w0\u001b[0m\u001b[1;33m=\u001b[0m\u001b[0ml_deriv_w0\u001b[0m\u001b[1;33m[\u001b[0m\u001b[1;36m0\u001b[0m\u001b[1;33m]\u001b[0m\u001b[1;33m\u001b[0m\u001b[0m\n",
      "\u001b[1;32m<ipython-input-32-3ccc3d09e0b2>\u001b[0m in \u001b[0;36mmini_batch\u001b[1;34m(l, w, b)\u001b[0m\n\u001b[0;32m      8\u001b[0m         \u001b[0mi\u001b[0m\u001b[1;33m=\u001b[0m\u001b[0mnew_digits\u001b[0m\u001b[1;33m[\u001b[0m\u001b[0ml\u001b[0m\u001b[1;33m[\u001b[0m\u001b[0mcont\u001b[0m\u001b[1;33m]\u001b[0m\u001b[1;33m]\u001b[0m\u001b[1;33m\u001b[0m\u001b[0m\n\u001b[0;32m      9\u001b[0m         \u001b[0ma\u001b[0m\u001b[1;33m,\u001b[0m\u001b[0mz\u001b[0m \u001b[1;33m=\u001b[0m \u001b[0mfeedforward\u001b[0m\u001b[1;33m(\u001b[0m\u001b[0mi\u001b[0m\u001b[1;33m,\u001b[0m\u001b[0mw\u001b[0m\u001b[1;33m,\u001b[0m\u001b[0mb\u001b[0m\u001b[1;33m)\u001b[0m\u001b[1;33m\u001b[0m\u001b[0m\n\u001b[1;32m---> 10\u001b[1;33m         \u001b[0mderiv_w\u001b[0m\u001b[1;33m,\u001b[0m \u001b[0mderiv_b\u001b[0m \u001b[1;33m=\u001b[0m \u001b[0mBP\u001b[0m\u001b[1;33m(\u001b[0m\u001b[0ma\u001b[0m\u001b[1;33m,\u001b[0m\u001b[0mz\u001b[0m\u001b[1;33m,\u001b[0m\u001b[0ml\u001b[0m\u001b[1;33m[\u001b[0m\u001b[0mcont\u001b[0m\u001b[1;33m]\u001b[0m\u001b[1;33m)\u001b[0m\u001b[1;33m\u001b[0m\u001b[0m\n\u001b[0m\u001b[0;32m     11\u001b[0m         \u001b[0ml_deriv_w0\u001b[0m\u001b[1;33m.\u001b[0m\u001b[0mappend\u001b[0m\u001b[1;33m(\u001b[0m\u001b[0mderiv_w\u001b[0m\u001b[1;33m[\u001b[0m\u001b[1;36m0\u001b[0m\u001b[1;33m]\u001b[0m\u001b[1;33m)\u001b[0m\u001b[1;33m\u001b[0m\u001b[0m\n\u001b[0;32m     12\u001b[0m         \u001b[0ml_deriv_w1\u001b[0m\u001b[1;33m.\u001b[0m\u001b[0mappend\u001b[0m\u001b[1;33m(\u001b[0m\u001b[0mderiv_w\u001b[0m\u001b[1;33m[\u001b[0m\u001b[1;36m1\u001b[0m\u001b[1;33m]\u001b[0m\u001b[1;33m)\u001b[0m\u001b[1;33m\u001b[0m\u001b[0m\n",
      "\u001b[1;32m<ipython-input-31-e739632cb9d9>\u001b[0m in \u001b[0;36mBP\u001b[1;34m(a, z, cont)\u001b[0m\n\u001b[0;32m      6\u001b[0m     \u001b[0mdelta\u001b[0m\u001b[1;33m[\u001b[0m\u001b[1;36m1\u001b[0m\u001b[1;33m]\u001b[0m\u001b[1;33m=\u001b[0m\u001b[0mnp\u001b[0m\u001b[1;33m.\u001b[0m\u001b[0mmultiply\u001b[0m\u001b[1;33m(\u001b[0m\u001b[0mvar\u001b[0m\u001b[1;33m,\u001b[0m\u001b[0mvar2\u001b[0m\u001b[1;33m)\u001b[0m\u001b[1;33m\u001b[0m\u001b[0m\n\u001b[0;32m      7\u001b[0m     \u001b[1;31m#BP2\u001b[0m\u001b[1;33m\u001b[0m\u001b[1;33m\u001b[0m\u001b[0m\n\u001b[1;32m----> 8\u001b[1;33m     \u001b[0mvar\u001b[0m\u001b[1;33m=\u001b[0m\u001b[0mnp\u001b[0m\u001b[1;33m.\u001b[0m\u001b[0mdot\u001b[0m\u001b[1;33m(\u001b[0m\u001b[0mw\u001b[0m\u001b[1;33m[\u001b[0m\u001b[1;36m1\u001b[0m\u001b[1;33m]\u001b[0m\u001b[1;33m.\u001b[0m\u001b[0mgetT\u001b[0m\u001b[1;33m(\u001b[0m\u001b[1;33m)\u001b[0m\u001b[1;33m,\u001b[0m\u001b[0mdelta\u001b[0m\u001b[1;33m[\u001b[0m\u001b[1;36m1\u001b[0m\u001b[1;33m]\u001b[0m\u001b[1;33m)\u001b[0m\u001b[1;33m\u001b[0m\u001b[0m\n\u001b[0m\u001b[0;32m      9\u001b[0m     \u001b[0mvar2\u001b[0m\u001b[1;33m=\u001b[0m\u001b[0msig\u001b[0m\u001b[1;33m(\u001b[0m\u001b[0mz\u001b[0m\u001b[1;33m[\u001b[0m\u001b[1;36m0\u001b[0m\u001b[1;33m]\u001b[0m\u001b[1;33m,\u001b[0m\u001b[0mderiv\u001b[0m\u001b[1;33m=\u001b[0m\u001b[1;32mTrue\u001b[0m\u001b[1;33m)\u001b[0m\u001b[1;33m\u001b[0m\u001b[0m\n\u001b[0;32m     10\u001b[0m     \u001b[0mdelta\u001b[0m\u001b[1;33m[\u001b[0m\u001b[1;36m0\u001b[0m\u001b[1;33m]\u001b[0m\u001b[1;33m=\u001b[0m\u001b[0mnp\u001b[0m\u001b[1;33m.\u001b[0m\u001b[0mmultiply\u001b[0m\u001b[1;33m(\u001b[0m\u001b[0mvar\u001b[0m\u001b[1;33m,\u001b[0m\u001b[0mvar2\u001b[0m\u001b[1;33m)\u001b[0m\u001b[1;33m\u001b[0m\u001b[0m\n",
      "\u001b[1;31mKeyboardInterrupt\u001b[0m: "
     ]
    }
   ],
   "source": [
    "while cont<1000:\n",
    "    w,b=epoch(0.3,w,b)\n",
    "    ef.append(testa(w,b)/10000)\n",
    "    conts.append(cont)\n",
    "    cont+=1"
   ]
  },
  {
   "cell_type": "code",
   "execution_count": 75,
   "metadata": {},
   "outputs": [
    {
     "data": {
      "image/png": "[encoded data removed]",
      "text/plain": [
       "<matplotlib.figure.Figure at 0x1abafc9f438>"
      ]
     },
     "metadata": {},
     "output_type": "display_data"
    }
   ],
   "source": [
    "plt.plot(conts,ef)\n",
    "plt.show()"
   ]
  },
  {
   "cell_type": "code",
   "execution_count": 78,
   "metadata": {},
   "outputs": [
    {
     "data": {
      "text/plain": [
       "[0.934,\n",
       " 0.9346,\n",
       " 0.9327,\n",
       " 0.9344,\n",
       " 0.9325,\n",
       " 0.9315,\n",
       " 0.9345,\n",
       " 0.9348,\n",
       " 0.934,\n",
       " 0.9342,\n",
       " 0.9336,\n",
       " 0.9303,\n",
       " 0.9294,\n",
       " 0.931,\n",
       " 0.9345]"
      ]
     },
     "execution_count": 78,
     "metadata": {},
     "output_type": "execute_result"
    }
   ],
   "source": [
    "ef[len(ef)-15:]"
   ]
  },
  {
   "cell_type": "code",
   "execution_count": 79,
   "metadata": {},
   "outputs": [],
   "source": [
    "ll=[]\n",
    "ll.append(w)\n",
    "ll.append(b)"
   ]
  },
  {
   "cell_type": "code",
   "execution_count": 89,
   "metadata": {},
   "outputs": [],
   "source": [
    "import pickle\n",
    "\n",
    "pickle.dump([w,b], open('neural.p','wb'))"
   ]
  },
  {
   "cell_type": "code",
   "execution_count": 90,
   "metadata": {},
   "outputs": [],
   "source": [
    "g,h=pickle.load(open('neural.p','rb'))"
   ]
  },
  {
   "cell_type": "code",
   "execution_count": 91,
   "metadata": {},
   "outputs": [
    {
     "name": "stderr",
     "output_type": "stream",
     "text": [
      "C:\\Users\\User-pc\\Anaconda\\lib\\site-packages\\ipykernel_launcher.py:4: RuntimeWarning: overflow encountered in exp\n",
      "  after removing the cwd from sys.path.\n"
     ]
    },
    {
     "data": {
      "text/plain": [
       "9338"
      ]
     },
     "execution_count": 91,
     "metadata": {},
     "output_type": "execute_result"
    }
   ],
   "source": [
    "testa(g,h)"
   ]
  },
  {
   "cell_type": "markdown",
   "metadata": {},
   "source": [
    "Tests"
   ]
  },
  {
   "cell_type": "code",
   "execution_count": 174,
   "metadata": {},
   "outputs": [
    {
     "data": {
      "image/png": "[encoded data removed]",
      "text/plain": [
       "<matplotlib.figure.Figure at 0x2578ef7dc50>"
      ]
     },
     "metadata": {},
     "output_type": "display_data"
    }
   ],
   "source": [
    "display_digit(digits[2])"
   ]
  },
  {
   "cell_type": "code",
   "execution_count": 180,
   "metadata": {},
   "outputs": [
    {
     "data": {
      "text/plain": [
       "5"
      ]
     },
     "execution_count": 180,
     "metadata": {},
     "output_type": "execute_result"
    }
   ],
   "source": [
    "r[0]"
   ]
  },
  {
   "cell_type": "code",
   "execution_count": 83,
   "metadata": {},
   "outputs": [
    {
     "name": "stderr",
     "output_type": "stream",
     "text": [
      "C:\\Users\\User-pc\\Anaconda\\lib\\site-packages\\ipykernel_launcher.py:4: RuntimeWarning: overflow encountered in exp\n",
      "  after removing the cwd from sys.path.\n"
     ]
    }
   ],
   "source": [
    "i=new_digits[0]\n",
    "w=[]\n",
    "b=[]\n",
    "w0 = np.random.randn(30,784)\n",
    "w0=np.matrix(w0)\n",
    "w1 = np.random.randn(10,30)\n",
    "w1=np.matrix(w1)\n",
    "w.append(w0)\n",
    "w.append(w1)\n",
    "b0 = np.random.randn(30,1)\n",
    "b0=np.matrix(b0)\n",
    "b1 = np.random.randn(10,1)\n",
    "b1=np.matrix(b1)\n",
    "b.append(b0)\n",
    "b.append(b1)\n",
    "\n",
    "a,z=feedforward(i,w,b)"
   ]
  },
  {
   "cell_type": "code",
   "execution_count": 151,
   "metadata": {},
   "outputs": [
    {
     "name": "stderr",
     "output_type": "stream",
     "text": [
      "C:\\Users\\User-pc\\Anaconda\\lib\\site-packages\\ipykernel_launcher.py:4: RuntimeWarning: overflow encountered in exp\n",
      "  after removing the cwd from sys.path.\n"
     ]
    },
    {
     "data": {
      "text/plain": [
       "[matrix([[  0.00000000e+000],\n",
       "         [ -0.00000000e+000],\n",
       "         [  0.00000000e+000],\n",
       "         [ -0.00000000e+000],\n",
       "         [ -0.00000000e+000],\n",
       "         [  0.00000000e+000],\n",
       "         [  0.00000000e+000],\n",
       "         [  0.00000000e+000],\n",
       "         [  6.49309685e-268],\n",
       "         [  0.00000000e+000],\n",
       "         [ -0.00000000e+000],\n",
       "         [ -9.25546281e-011],\n",
       "         [ -3.56961903e-135],\n",
       "         [  0.00000000e+000],\n",
       "         [ -7.28035676e-082],\n",
       "         [  0.00000000e+000],\n",
       "         [ -0.00000000e+000],\n",
       "         [ -2.45038612e-136],\n",
       "         [ -0.00000000e+000],\n",
       "         [  7.87114859e-207],\n",
       "         [  0.00000000e+000],\n",
       "         [  0.00000000e+000],\n",
       "         [  0.00000000e+000],\n",
       "         [ -0.00000000e+000],\n",
       "         [  0.00000000e+000],\n",
       "         [ -0.00000000e+000],\n",
       "         [  1.97830563e-254],\n",
       "         [  0.00000000e+000],\n",
       "         [ -0.00000000e+000],\n",
       "         [  0.00000000e+000]]), matrix([[ 0.0006351 ],\n",
       "         [ 0.03372408],\n",
       "         [ 0.07808133],\n",
       "         [ 0.04269792],\n",
       "         [ 0.14796344],\n",
       "         [-0.01531988],\n",
       "         [ 0.00824181],\n",
       "         [ 0.00279514],\n",
       "         [ 0.01100748],\n",
       "         [ 0.09502188]])]"
      ]
     },
     "execution_count": 151,
     "metadata": {},
     "output_type": "execute_result"
    }
   ],
   "source": [
    "deriv_w, deriv_b=BP(a,z,0)\n",
    "deriv_b"
   ]
  },
  {
   "cell_type": "code",
   "execution_count": 103,
   "metadata": {},
   "outputs": [
    {
     "data": {
      "text/plain": [
       "matrix([[ 2.]])"
      ]
     },
     "execution_count": 103,
     "metadata": {},
     "output_type": "execute_result"
    }
   ],
   "source": [
    "matrix = [[0 for i in np.arange(0,n2)] for j in np.arange(0,n3)]\n",
    "matrix=np.matrix(matrix)"
   ]
  },
  {
   "cell_type": "code",
   "execution_count": 110,
   "metadata": {},
   "outputs": [
    {
     "data": {
      "text/plain": [
       "matrix([[1],\n",
       "        [2],\n",
       "        [3],\n",
       "        [4],\n",
       "        [5],\n",
       "        [6]])"
      ]
     },
     "execution_count": 110,
     "metadata": {},
     "output_type": "execute_result"
    }
   ],
   "source": [
    "h=[1,2,3,4,5,6]\n",
    "h=np.matrix(h)\n",
    "h.resize(6,1)\n",
    "h"
   ]
  },
  {
   "cell_type": "code",
   "execution_count": 163,
   "metadata": {},
   "outputs": [
    {
     "data": {
      "text/plain": [
       "array([45329, 46051, 21676, ...,  1855, 31042, 32468])"
      ]
     },
     "execution_count": 163,
     "metadata": {},
     "output_type": "execute_result"
    }
   ],
   "source": [
    "todos=np.arange(0,50000)\n",
    "np.random.shuffle(todos)\n",
    "todos"
   ]
  },
  {
   "cell_type": "code",
   "execution_count": null,
   "metadata": {
    "collapsed": true
   },
   "outputs": [],
   "source": []
  }
 ],
 "metadata": {
  "kernelspec": {
   "display_name": "Python 3",
   "language": "python",
   "name": "python3"
  },
  "language_info": {
   "codemirror_mode": {
    "name": "ipython",
    "version": 3
   },
   "file_extension": ".py",
   "mimetype": "text/x-python",
   "name": "python",
   "nbconvert_exporter": "python",
   "pygments_lexer": "ipython3",
   "version": "3.6.1"
  }
 },
 "nbformat": 4,
 "nbformat_minor": 2
}
