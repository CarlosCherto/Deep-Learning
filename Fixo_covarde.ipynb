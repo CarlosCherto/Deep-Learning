{
 "cells": [
  {
   "cell_type": "code",
   "execution_count": 69,
   "metadata": {
    "collapsed": true
   },
   "outputs": [],
   "source": [
    "import random\n",
    "from base64 import b64decode\n",
    "from json import loads\n",
    "import numpy as np\n",
    "import matplotlib.pyplot as plt\n",
    "%matplotlib inline\n",
    "from sklearn.cluster import KMeans\n",
    "import sklearn\n",
    "from scipy.stats import mode\n",
    "from sklearn.metrics import confusion_matrix\n",
    "import seaborn as sns; sns.set()"
   ]
  },
  {
   "cell_type": "code",
   "execution_count": 70,
   "metadata": {
    "collapsed": true
   },
   "outputs": [],
   "source": [
    "def ler(x):\n",
    "\n",
    "    digit = loads(x)\n",
    "    array = np.fromstring(b64decode(digit[\"data\"]),dtype=np.ubyte)\n",
    "    array = array.astype(np.float64)\n",
    "    return (digit[\"label\"], array)"
   ]
  },
  {
   "cell_type": "code",
   "execution_count": 71,
   "metadata": {
    "collapsed": true
   },
   "outputs": [],
   "source": [
    "with open(\"digits.base64.json\",\"r\") as f:\n",
    "    digits = map(ler, f.readlines())\n",
    "digits=list(digits)"
   ]
  },
  {
   "cell_type": "code",
   "execution_count": 72,
   "metadata": {
    "collapsed": true
   },
   "outputs": [],
   "source": [
    "def display_digit(digit, labeled = True, title = \"\"):\n",
    "    if labeled:\n",
    "        digit = digit[1]\n",
    "    image = digit\n",
    "    plt.figure()\n",
    "    fig = plt.imshow(image.reshape(28,28))\n",
    "    fig.set_cmap('gray_r')\n",
    "    fig.axes.get_xaxis().set_visible(False)\n",
    "    fig.axes.get_yaxis().set_visible(False)\n",
    "    if title != \"\":\n",
    "        plt.title(\"Inferred label: \" + str(title))"
   ]
  },
  {
   "cell_type": "code",
   "execution_count": 73,
   "metadata": {
    "collapsed": true
   },
   "outputs": [],
   "source": [
    "new_digits=[]\n",
    "cont=0\n",
    "while cont<len(digits):\n",
    "    new_digits.append(digits[cont][1])\n",
    "    cont+=1"
   ]
  },
  {
   "cell_type": "code",
   "execution_count": 74,
   "metadata": {
    "collapsed": true
   },
   "outputs": [],
   "source": [
    "digits_treino=digits[:len(digits)*5//6]\n",
    "digits_val=digits[len(digits)*5//6:]\n",
    "new_digits_treino=new_digits[:len(new_digits)*5//6]\n",
    "new_digits_val=new_digits[len(new_digits)*5//6:]"
   ]
  },
  {
   "cell_type": "code",
   "execution_count": 75,
   "metadata": {
    "collapsed": true
   },
   "outputs": [],
   "source": [
    "r=[]\n",
    "y=[]\n",
    "cont=0\n",
    "while cont<len(digits):\n",
    "    r.append(digits[cont][0])\n",
    "    cont+=1\n",
    "y=[[[0] for i in np.arange(0,10)] for j in np.arange(0,60000)]\n",
    "cont=0\n",
    "while cont<len(digits):\n",
    "    y[cont][r[cont]][0]=1\n",
    "    cont+=1"
   ]
  },
  {
   "cell_type": "markdown",
   "metadata": {},
   "source": [
    "Preparations"
   ]
  },
  {
   "cell_type": "code",
   "execution_count": 76,
   "metadata": {
    "collapsed": true
   },
   "outputs": [],
   "source": [
    "cont=0\n",
    "while cont<60000:\n",
    "    y[cont]=np.matrix(y[cont])\n",
    "    cont+=1"
   ]
  },
  {
   "cell_type": "code",
   "execution_count": 77,
   "metadata": {
    "collapsed": true
   },
   "outputs": [],
   "source": [
    "cont=0\n",
    "while cont<60000:\n",
    "    new_digits[cont].resize(784,1)\n",
    "    new_digits[cont]=np.matrix(new_digits[cont])\n",
    "    cont+=1"
   ]
  },
  {
   "cell_type": "markdown",
   "metadata": {},
   "source": [
    "Neural Network"
   ]
  },
  {
   "cell_type": "code",
   "execution_count": 153,
   "metadata": {},
   "outputs": [],
   "source": [
    "n1=784\n",
    "n2=30\n",
    "n3=10\n",
    "size=[n1,n2,n3]"
   ]
  },
  {
   "cell_type": "code",
   "execution_count": 154,
   "metadata": {
    "collapsed": true
   },
   "outputs": [],
   "source": [
    "def sig(x, deriv=False):\n",
    "    if deriv:\n",
    "        return np.multiply(sig(x),(1-sig(x)))\n",
    "    return 1/(1+np.exp(-x))"
   ]
  },
  {
   "cell_type": "code",
   "execution_count": 155,
   "metadata": {
    "collapsed": true
   },
   "outputs": [],
   "source": [
    "def feedforward(i,w,b):\n",
    "    z = []\n",
    "    a = []\n",
    "    a.append(i)\n",
    "    cont=0\n",
    "    while cont<2:\n",
    "        dp = np.dot(w[cont],a[cont])\n",
    "        z.append(np.add(dp,b[cont]))\n",
    "        var = sig(z[cont])\n",
    "        a.append(var)\n",
    "        cont+=1\n",
    "    return a,z"
   ]
  },
  {
   "cell_type": "code",
   "execution_count": 156,
   "metadata": {
    "collapsed": true
   },
   "outputs": [],
   "source": [
    "def custox(a, cont):\n",
    "    var = np.subtract(a[2],y[cont])\n",
    "    var = np.linalg.norm(var)\n",
    "    cx = (var**2)/2\n",
    "    return cx"
   ]
  },
  {
   "cell_type": "code",
   "execution_count": 157,
   "metadata": {
    "collapsed": true
   },
   "outputs": [],
   "source": [
    "def BP(a,z,cont):\n",
    "    delta=[0,0]\n",
    "    #BP1\n",
    "    var=np.subtract(a[2],y[cont])\n",
    "    var2=sig(z[1],deriv=True)\n",
    "    delta[1]=np.multiply(var,var2)\n",
    "    #BP2\n",
    "    var=np.dot(w[1].getT(),delta[1])\n",
    "    var2=sig(z[0],deriv=True)\n",
    "    delta[0]=np.multiply(var,var2)\n",
    "    #BP3\n",
    "    deriv_b=[]\n",
    "    deriv_b.append(delta[0])\n",
    "    deriv_b.append(delta[1])\n",
    "    #BP4\n",
    "    deriv_w = []\n",
    "    deriv_w.append(np.dot(delta[0],a[0].getT()))\n",
    "    deriv_w.append(np.dot(delta[1],a[1].getT()))\n",
    "    return deriv_w, deriv_b"
   ]
  },
  {
   "cell_type": "code",
   "execution_count": 191,
   "metadata": {
    "collapsed": true
   },
   "outputs": [],
   "source": [
    "def mini_batch(l,w,b):\n",
    "    l_deriv_w0=[]\n",
    "    l_deriv_w1=[]\n",
    "    l_deriv_b0=[]\n",
    "    l_deriv_b1=[]\n",
    "    cont=0\n",
    "    while cont<len(l):\n",
    "        i=new_digits[l[cont]]\n",
    "        a,z = feedforward(i,w,b)\n",
    "        deriv_w, deriv_b = BP(a,z,l[cont])\n",
    "        l_deriv_w0.append(deriv_w[0])\n",
    "        l_deriv_w1.append(deriv_w[1])\n",
    "        l_deriv_b0.append(deriv_b[0])\n",
    "        l_deriv_b1.append(deriv_b[1])\n",
    "        cont+=1\n",
    "    return l_deriv_w0,l_deriv_w1, l_deriv_b0, l_deriv_b1\n",
    "        "
   ]
  },
  {
   "cell_type": "code",
   "execution_count": 196,
   "metadata": {
    "collapsed": true
   },
   "outputs": [],
   "source": [
    "def epoch(eta,w,b):\n",
    "    passo=0\n",
    "    todos=np.arange(0,50000)\n",
    "    np.random.shuffle(todos)\n",
    "    while len(todos) != 0:\n",
    "        l_deriv_w0,l_deriv_w1, l_deriv_b0, l_deriv_b1 = mini_batch(todos[:100],w,b)\n",
    "        todos=todos[100:]\n",
    "        mean_deriv_w0=l_deriv_w0[0]\n",
    "        mean_deriv_w1=l_deriv_w1[0]\n",
    "        mean_deriv_b0=l_deriv_b0[0]\n",
    "        mean_deriv_b1=l_deriv_b1[0]\n",
    "        cont=1\n",
    "        while cont < len(l_deriv_w0):\n",
    "            mean_deriv_w0 = np.add(mean_deriv_w0,l_deriv_w0[cont])\n",
    "            mean_deriv_w1 = np.add(mean_deriv_w1,l_deriv_w1[cont])\n",
    "            mean_deriv_b0 = np.add(mean_deriv_b0,l_deriv_b0[cont])\n",
    "            mean_deriv_b1 = np.add(mean_deriv_b1,l_deriv_b1[cont])\n",
    "            cont+=1\n",
    "        mean_deriv_w0 = np.multiply(eta/len(l_deriv_w0),mean_deriv_w0)\n",
    "        mean_deriv_w1 = np.multiply(eta/len(l_deriv_w1),mean_deriv_w1)\n",
    "        mean_deriv_b0 = np.multiply(eta/len(l_deriv_b0),mean_deriv_b0)\n",
    "        mean_deriv_b1 = np.multiply(eta/len(l_deriv_b1),mean_deriv_b1)\n",
    "        \n",
    "        w[0] = np.subtract(w[0],mean_deriv_w0)\n",
    "        w[1] = np.subtract(w[1],mean_deriv_w1)\n",
    "        b[0] = np.subtract(b[0],mean_deriv_b0)\n",
    "        b[1] = np.subtract(b[1],mean_deriv_b1)\n",
    "        passo+=100\n",
    "        #if passo%2500==0:\n",
    "            #print(passo)\n",
    "    return w,b"
   ]
  },
  {
   "cell_type": "code",
   "execution_count": 197,
   "metadata": {
    "collapsed": true
   },
   "outputs": [],
   "source": [
    "def testa(w,b):\n",
    "    cont=0\n",
    "    acertos=0\n",
    "    while cont<60000:\n",
    "        i=new_digits[cont]\n",
    "        a,z=feedforward(i,w,b)\n",
    "        cont2=0\n",
    "        m=max(a[2])\n",
    "        while cont2<10:\n",
    "            if m==a[2][cont2]:\n",
    "                break\n",
    "            cont2+=1\n",
    "        if cont2==r[cont]:\n",
    "            acertos+=1\n",
    "        cont+=1\n",
    "    return acertos\n",
    "        \n",
    "            "
   ]
  },
  {
   "cell_type": "code",
   "execution_count": 198,
   "metadata": {},
   "outputs": [
    {
     "name": "stderr",
     "output_type": "stream",
     "text": [
      "C:\\Users\\User-pc\\Anaconda\\lib\\site-packages\\ipykernel_launcher.py:4: RuntimeWarning: overflow encountered in exp\n",
      "  after removing the cwd from sys.path.\n"
     ]
    }
   ],
   "source": [
    "w=[]\n",
    "b=[]\n",
    "w0 = np.random.randn(30,784)\n",
    "w0=np.matrix(w0)\n",
    "w1 = np.random.randn(10,30)\n",
    "w1=np.matrix(w1)\n",
    "w.append(w0)\n",
    "w.append(w1)\n",
    "b0 = np.random.randn(30,1)\n",
    "b0=np.matrix(b0)\n",
    "b1 = np.random.randn(10,1)\n",
    "b1=np.matrix(b1)\n",
    "b.append(b0)\n",
    "b.append(b1)\n",
    "cont=0\n",
    "while cont<100:\n",
    "    w,b=epoch(3,w,b)\n",
    "    cont+=1"
   ]
  },
  {
   "cell_type": "code",
   "execution_count": 199,
   "metadata": {},
   "outputs": [
    {
     "name": "stderr",
     "output_type": "stream",
     "text": [
      "C:\\Users\\User-pc\\Anaconda\\lib\\site-packages\\ipykernel_launcher.py:4: RuntimeWarning: overflow encountered in exp\n",
      "  after removing the cwd from sys.path.\n"
     ]
    },
    {
     "data": {
      "text/plain": [
       "45396"
      ]
     },
     "execution_count": 199,
     "metadata": {},
     "output_type": "execute_result"
    }
   ],
   "source": [
    "testa(w,b)"
   ]
  },
  {
   "cell_type": "markdown",
   "metadata": {},
   "source": [
    "Tests"
   ]
  },
  {
   "cell_type": "code",
   "execution_count": 174,
   "metadata": {},
   "outputs": [
    {
     "data": {
      "image/png": "[encoded data removed]",
      "text/plain": [
       "<matplotlib.figure.Figure at 0x2578ef7dc50>"
      ]
     },
     "metadata": {},
     "output_type": "display_data"
    }
   ],
   "source": [
    "display_digit(digits[2])"
   ]
  },
  {
   "cell_type": "code",
   "execution_count": 180,
   "metadata": {},
   "outputs": [
    {
     "data": {
      "text/plain": [
       "5"
      ]
     },
     "execution_count": 180,
     "metadata": {},
     "output_type": "execute_result"
    }
   ],
   "source": [
    "r[0]"
   ]
  },
  {
   "cell_type": "code",
   "execution_count": 83,
   "metadata": {},
   "outputs": [
    {
     "name": "stderr",
     "output_type": "stream",
     "text": [
      "C:\\Users\\User-pc\\Anaconda\\lib\\site-packages\\ipykernel_launcher.py:4: RuntimeWarning: overflow encountered in exp\n",
      "  after removing the cwd from sys.path.\n"
     ]
    }
   ],
   "source": [
    "i=new_digits[0]\n",
    "w=[]\n",
    "b=[]\n",
    "w0 = np.random.randn(30,784)\n",
    "w0=np.matrix(w0)\n",
    "w1 = np.random.randn(10,30)\n",
    "w1=np.matrix(w1)\n",
    "w.append(w0)\n",
    "w.append(w1)\n",
    "b0 = np.random.randn(30,1)\n",
    "b0=np.matrix(b0)\n",
    "b1 = np.random.randn(10,1)\n",
    "b1=np.matrix(b1)\n",
    "b.append(b0)\n",
    "b.append(b1)\n",
    "\n",
    "a,z=feedforward(i,w,b)"
   ]
  },
  {
   "cell_type": "code",
   "execution_count": 151,
   "metadata": {},
   "outputs": [
    {
     "name": "stderr",
     "output_type": "stream",
     "text": [
      "C:\\Users\\User-pc\\Anaconda\\lib\\site-packages\\ipykernel_launcher.py:4: RuntimeWarning: overflow encountered in exp\n",
      "  after removing the cwd from sys.path.\n"
     ]
    },
    {
     "data": {
      "text/plain": [
       "[matrix([[  0.00000000e+000],\n",
       "         [ -0.00000000e+000],\n",
       "         [  0.00000000e+000],\n",
       "         [ -0.00000000e+000],\n",
       "         [ -0.00000000e+000],\n",
       "         [  0.00000000e+000],\n",
       "         [  0.00000000e+000],\n",
       "         [  0.00000000e+000],\n",
       "         [  6.49309685e-268],\n",
       "         [  0.00000000e+000],\n",
       "         [ -0.00000000e+000],\n",
       "         [ -9.25546281e-011],\n",
       "         [ -3.56961903e-135],\n",
       "         [  0.00000000e+000],\n",
       "         [ -7.28035676e-082],\n",
       "         [  0.00000000e+000],\n",
       "         [ -0.00000000e+000],\n",
       "         [ -2.45038612e-136],\n",
       "         [ -0.00000000e+000],\n",
       "         [  7.87114859e-207],\n",
       "         [  0.00000000e+000],\n",
       "         [  0.00000000e+000],\n",
       "         [  0.00000000e+000],\n",
       "         [ -0.00000000e+000],\n",
       "         [  0.00000000e+000],\n",
       "         [ -0.00000000e+000],\n",
       "         [  1.97830563e-254],\n",
       "         [  0.00000000e+000],\n",
       "         [ -0.00000000e+000],\n",
       "         [  0.00000000e+000]]), matrix([[ 0.0006351 ],\n",
       "         [ 0.03372408],\n",
       "         [ 0.07808133],\n",
       "         [ 0.04269792],\n",
       "         [ 0.14796344],\n",
       "         [-0.01531988],\n",
       "         [ 0.00824181],\n",
       "         [ 0.00279514],\n",
       "         [ 0.01100748],\n",
       "         [ 0.09502188]])]"
      ]
     },
     "execution_count": 151,
     "metadata": {},
     "output_type": "execute_result"
    }
   ],
   "source": [
    "deriv_w, deriv_b=BP(a,z,0)\n",
    "deriv_b"
   ]
  },
  {
   "cell_type": "code",
   "execution_count": 103,
   "metadata": {},
   "outputs": [
    {
     "data": {
      "text/plain": [
       "matrix([[ 2.]])"
      ]
     },
     "execution_count": 103,
     "metadata": {},
     "output_type": "execute_result"
    }
   ],
   "source": [
    "matrix = [[0 for i in np.arange(0,n2)] for j in np.arange(0,n3)]\n",
    "matrix=np.matrix(matrix)"
   ]
  },
  {
   "cell_type": "code",
   "execution_count": 110,
   "metadata": {},
   "outputs": [
    {
     "data": {
      "text/plain": [
       "matrix([[1],\n",
       "        [2],\n",
       "        [3],\n",
       "        [4],\n",
       "        [5],\n",
       "        [6]])"
      ]
     },
     "execution_count": 110,
     "metadata": {},
     "output_type": "execute_result"
    }
   ],
   "source": [
    "h=[1,2,3,4,5,6]\n",
    "h=np.matrix(h)\n",
    "h.resize(6,1)\n",
    "h"
   ]
  },
  {
   "cell_type": "code",
   "execution_count": 163,
   "metadata": {},
   "outputs": [
    {
     "data": {
      "text/plain": [
       "array([45329, 46051, 21676, ...,  1855, 31042, 32468])"
      ]
     },
     "execution_count": 163,
     "metadata": {},
     "output_type": "execute_result"
    }
   ],
   "source": [
    "todos=np.arange(0,50000)\n",
    "np.random.shuffle(todos)\n",
    "todos"
   ]
  },
  {
   "cell_type": "code",
   "execution_count": null,
   "metadata": {
    "collapsed": true
   },
   "outputs": [],
   "source": []
  }
 ],
 "metadata": {
  "kernelspec": {
   "display_name": "Python 3",
   "language": "python",
   "name": "python3"
  },
  "language_info": {
   "codemirror_mode": {
    "name": "ipython",
    "version": 3
   },
   "file_extension": ".py",
   "mimetype": "text/x-python",
   "name": "python",
   "nbconvert_exporter": "python",
   "pygments_lexer": "ipython3",
   "version": "3.6.1"
  }
 },
 "nbformat": 4,
 "nbformat_minor": 2
}
