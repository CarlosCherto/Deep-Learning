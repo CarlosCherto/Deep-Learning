{
 "cells": [
  {
   "cell_type": "code",
   "execution_count": 5,
   "metadata": {
    "collapsed": true
   },
   "outputs": [],
   "source": [
    "import random\n",
    "from base64 import b64decode\n",
    "from json import loads\n",
    "import numpy as np\n",
    "import matplotlib.pyplot as plt\n",
    "%matplotlib inline\n",
    "from sklearn.cluster import KMeans\n",
    "import sklearn\n",
    "from scipy.stats import mode\n",
    "from sklearn.metrics import confusion_matrix\n",
    "import seaborn as sns; sns.set()"
   ]
  },
  {
   "cell_type": "code",
   "execution_count": 6,
   "metadata": {
    "collapsed": true
   },
   "outputs": [],
   "source": [
    "def ler(x):\n",
    "\n",
    "    digit = loads(x)\n",
    "    array = np.fromstring(b64decode(digit[\"data\"]),dtype=np.ubyte)\n",
    "    array = array.astype(np.float64)\n",
    "    return (digit[\"label\"], array)"
   ]
  },
  {
   "cell_type": "code",
   "execution_count": 7,
   "metadata": {
    "collapsed": true
   },
   "outputs": [],
   "source": [
    "with open(\"digits.base64.json\",\"r\") as f:\n",
    "    digits = map(ler, f.readlines())\n",
    "digits=list(digits)"
   ]
  },
  {
   "cell_type": "code",
   "execution_count": 8,
   "metadata": {
    "collapsed": true
   },
   "outputs": [],
   "source": [
    "def display_digit(digit, labeled = True, title = \"\"):\n",
    "    if labeled:\n",
    "        digit = digit[1]\n",
    "    image = digit\n",
    "    plt.figure()\n",
    "    fig = plt.imshow(image.reshape(28,28))\n",
    "    fig.set_cmap('gray_r')\n",
    "    fig.axes.get_xaxis().set_visible(False)\n",
    "    fig.axes.get_yaxis().set_visible(False)\n",
    "    if title != \"\":\n",
    "        plt.title(\"Inferred label: \" + str(title))"
   ]
  },
  {
   "cell_type": "code",
   "execution_count": 9,
   "metadata": {
    "collapsed": true
   },
   "outputs": [],
   "source": [
    "new_digits=[]\n",
    "cont=0\n",
    "while cont<len(digits):\n",
    "    new_digits.append(digits[cont][1])\n",
    "    cont+=1"
   ]
  },
  {
   "cell_type": "code",
   "execution_count": 10,
   "metadata": {
    "collapsed": true
   },
   "outputs": [],
   "source": [
    "digits_treino=digits[:len(digits)*5//6]\n",
    "digits_val=digits[len(digits)*5//6:]\n",
    "new_digits_treino=new_digits[:len(new_digits)*5//6]\n",
    "new_digits_val=new_digits[len(new_digits)*5//6:]"
   ]
  },
  {
   "cell_type": "code",
   "execution_count": 11,
   "metadata": {
    "collapsed": true
   },
   "outputs": [],
   "source": [
    "r=[]\n",
    "y=[]\n",
    "cont=0\n",
    "while cont<len(digits):\n",
    "    r.append(digits[cont][0])\n",
    "    cont+=1\n",
    "y=[[[0] for i in np.arange(0,10)] for j in np.arange(0,60000)]\n",
    "cont=0\n",
    "while cont<len(digits):\n",
    "    y[cont][r[cont]][0]=1\n",
    "    cont+=1"
   ]
  },
  {
   "cell_type": "markdown",
   "metadata": {},
   "source": [
    "Neural Network"
   ]
  },
  {
   "cell_type": "code",
   "execution_count": 357,
   "metadata": {
    "collapsed": true
   },
   "outputs": [],
   "source": [
    "n1=784\n",
    "n2=30\n",
    "n3=10\n",
    "size=[n1,n2,n3]"
   ]
  },
  {
   "cell_type": "code",
   "execution_count": 358,
   "metadata": {
    "collapsed": true
   },
   "outputs": [],
   "source": [
    "def apply_sig(z):\n",
    "    cont=0\n",
    "    while cont<len(z):\n",
    "        z[cont]=sig(z[cont])\n",
    "        cont+=1\n",
    "    return z"
   ]
  },
  {
   "cell_type": "code",
   "execution_count": 359,
   "metadata": {
    "collapsed": true
   },
   "outputs": [],
   "source": [
    "def plus(dp,b):\n",
    "    cont=0\n",
    "    z=[]\n",
    "    while cont<len(b):\n",
    "        z.append(dp[cont]+b[cont][0])\n",
    "        cont+=1\n",
    "    return z"
   ]
  },
  {
   "cell_type": "code",
   "execution_count": 360,
   "metadata": {
    "collapsed": true
   },
   "outputs": [],
   "source": [
    "def sig(x, deriv=False):\n",
    "    \n",
    "    if deriv:\n",
    "        return sig(x)*(1-sig(x))\n",
    "    \n",
    "    return 1/(1+np.exp(-x))"
   ]
  },
  {
   "cell_type": "code",
   "execution_count": 361,
   "metadata": {},
   "outputs": [
    {
     "ename": "SyntaxError",
     "evalue": "invalid syntax (<ipython-input-361-e91bed71f984>, line 10)",
     "output_type": "error",
     "traceback": [
      "\u001b[1;36m  File \u001b[1;32m\"<ipython-input-361-e91bed71f984>\"\u001b[1;36m, line \u001b[1;32m10\u001b[0m\n\u001b[1;33m    a.append(var)\u001b[0m\n\u001b[1;37m    ^\u001b[0m\n\u001b[1;31mSyntaxError\u001b[0m\u001b[1;31m:\u001b[0m invalid syntax\n"
     ]
    }
   ],
   "source": [
    "def feedforward(i,w,b):\n",
    "    z = []\n",
    "    a = []\n",
    "    a.append(i)\n",
    "    cont=0\n",
    "    while cont<2:\n",
    "        print(0)\n",
    "        print(w[cont])\n",
    "        print(1)\n",
    "        print(a[cont])\n",
    "        print(2)\n",
    "        print(dp)\n",
    "        dp = np.dot(w[cont],a[cont])\n",
    "        print(3)\n",
    "        print\n",
    "        z.append(plus(dp,b[cont]))\n",
    "        var = apply_sig(z[cont]\n",
    "        a.append(var)\n",
    "        cont+=1\n",
    "    return a,z"
   ]
  },
  {
   "cell_type": "code",
   "execution_count": 362,
   "metadata": {
    "collapsed": true
   },
   "outputs": [],
   "source": [
    "# i=new_digits[0]\n",
    "# z = []\n",
    "# a = []\n",
    "# a.append(i)\n",
    "# cont=0\n",
    "# while cont<2:\n",
    "#     dp = np.dot(w[cont],a[cont])\n",
    "#     #print(w[cont])\n",
    "#     #print(0)\n",
    "#     print(a[cont])\n",
    "#     print(b[cont])\n",
    "#     print(1)\n",
    "#     print(dp)\n",
    "#     print(2)\n",
    "#     z.append(plus(dp,b[cont]))\n",
    "#     print(z[cont])\n",
    "#     print(len(z[cont]))\n",
    "#     #print(z[cont])\n",
    "#     #print(3)\n",
    "#     var = apply_sig(z[cont])\n",
    "#     print(var)\n",
    "#     a.append(var)\n",
    "#     cont+=1\n",
    "# a[2]"
   ]
  },
  {
   "cell_type": "code",
   "execution_count": 363,
   "metadata": {
    "collapsed": true
   },
   "outputs": [],
   "source": [
    "# w=[]\n",
    "# b=[]\n",
    "# w0 = np.random.randn(30,784)\n",
    "# w1 = np.random.randn(10,30)\n",
    "# w.append(w0)\n",
    "# w.append(w1)\n",
    "# b0 = np.random.randn(30,)\n",
    "# b1 = np.random.randn(10,)\n",
    "# b.append(b0)\n",
    "# b.append(b1)\n",
    "# i = new_digits[0]\n",
    "# ava=feedforward(i,w,b)"
   ]
  },
  {
   "cell_type": "code",
   "execution_count": 364,
   "metadata": {
    "collapsed": true
   },
   "outputs": [],
   "source": [
    "def custox(a, cont):\n",
    "    var = a[2]-y[cont]\n",
    "    var = np.linalg.norm(var)\n",
    "    cx = (var**2)/2\n",
    "    return cx"
   ]
  },
  {
   "cell_type": "code",
   "execution_count": 365,
   "metadata": {
    "collapsed": true
   },
   "outputs": [],
   "source": [
    "def BP(a,z,cont):\n",
    "    delta=[[],[]]\n",
    "    #BP1\n",
    "    var=a[2]-y[cont]\n",
    "    var2=sig(z[1],deriv=True)\n",
    "    delta[1]=np.multiply(var,var2)\n",
    "    #BP2\n",
    "    var=np.dot(w[1].transpose(),delta[1])\n",
    "    var2=sig(z[0],deriv=True)\n",
    "    delta[0]=np.multiply(var,var2)\n",
    "    #BP3\n",
    "    deriv_b=[[],[]]\n",
    "    cont=0\n",
    "    while cont<len(delta[0]):\n",
    "        deriv_b[0].append(delta[0][cont])\n",
    "        cont+=1\n",
    "    cont=0\n",
    "    while cont<len(delta[1]):\n",
    "        deriv_b[1].append(delta[1][cont])\n",
    "        cont+=1\n",
    "    #BP4\n",
    "    deriv_w = [0,0]\n",
    "    matrix = [[0 for i in np.arange(0,n1)] for j in np.arange(0,n2)]\n",
    "    cont=0\n",
    "    while cont<len(delta[0]):\n",
    "        cont2=0\n",
    "        while cont2<len(a[0]):\n",
    "            matrix[cont][cont2] = a[0][cont2][0]*delta[0][cont][0]\n",
    "            #if cont == 0 and cont2 == 0:\n",
    "                #print(a[0][cont2])\n",
    "                #print(delta[0][cont])\n",
    "            cont2+=1\n",
    "        cont+=1\n",
    "    deriv_w[0]=matrix\n",
    "    \n",
    "    matrix = [[0 for i in np.arange(0,n2)] for j in np.arange(0,n3)]\n",
    "    cont=0\n",
    "    while cont<len(delta[1]):\n",
    "        cont2=0\n",
    "        while cont2<len(a[1]):\n",
    "            matrix[cont][cont2] = a[1][cont2][0]*delta[1][cont][0]\n",
    "            cont2+=1\n",
    "        cont+=1\n",
    "    deriv_w[1]=matrix\n",
    "    return deriv_w, deriv_b"
   ]
  },
  {
   "cell_type": "code",
   "execution_count": 366,
   "metadata": {
    "collapsed": true
   },
   "outputs": [],
   "source": [
    "def mini_batch(l,w,b):\n",
    "    l_deriv_w0=[]\n",
    "    l_deriv_w1=[]\n",
    "    l_deriv_b0=[]\n",
    "    l_deriv_b1=[]\n",
    "    cont=0\n",
    "    while cont<len(l):\n",
    "        i=np.resize(new_digits[l[cont]],(784,1))\n",
    "        a,z = feedforward(i,w,b)\n",
    "        deriv_w, deriv_b = BP(a,z,l[cont])\n",
    "        l_deriv_w0.append(deriv_w[0])\n",
    "        l_deriv_w1.append(deriv_w[1])\n",
    "        l_deriv_b0.append(deriv_b[0])\n",
    "        l_deriv_b1.append(deriv_b[1])\n",
    "        cont+=1\n",
    "    return l_deriv_w0,l_deriv_w1, l_deriv_b0, l_deriv_b1\n",
    "        \n",
    "    "
   ]
  },
  {
   "cell_type": "code",
   "execution_count": 367,
   "metadata": {
    "collapsed": true
   },
   "outputs": [],
   "source": [
    "def epoch(eta,w,b):\n",
    "    passo=0\n",
    "    todos=np.arange(0,50000)\n",
    "    np.random.shuffle(todos)\n",
    "    while len(todos) != 0:\n",
    "        l_deriv_w0,l_deriv_w1, l_deriv_b0, l_deriv_b1 = mini_batch(todos[:100],w,b)\n",
    "        todos=todos[100:]\n",
    "        mean_deriv_w0=l_deriv_w0[0]\n",
    "        mean_deriv_w1=l_deriv_w1[0]\n",
    "        mean_deriv_b0=l_deriv_b0[0]\n",
    "        mean_deriv_b1=l_deriv_b1[0]\n",
    "        cont=1\n",
    "        while cont < len(l_deriv_w0):\n",
    "            mean_deriv_w0 = np.add(mean_deriv_w0,l_deriv_w0[cont])\n",
    "            cont+=1\n",
    "        mean_deriv_w0 = np.multiply(eta/len(l_deriv_w0),mean_deriv_w0)\n",
    "        \n",
    "        cont=1\n",
    "        while cont < len(l_deriv_w1):\n",
    "            mean_deriv_w1 = np.add(mean_deriv_w1,l_deriv_w1[cont])\n",
    "            cont+=1\n",
    "        mean_deriv_w1 = np.multiply(eta/len(l_deriv_w1),mean_deriv_w1)\n",
    "        \n",
    "        cont=1\n",
    "        while cont < len(l_deriv_b0):\n",
    "            mean_deriv_b0 = np.add(mean_deriv_b0,l_deriv_b0[cont])\n",
    "            cont+=1\n",
    "        mean_deriv_b0 = np.multiply(eta/len(l_deriv_b0),mean_deriv_b0)\n",
    "        \n",
    "        cont=1\n",
    "        while cont < len(l_deriv_b1):\n",
    "            mean_deriv_b1 = np.add(mean_deriv_b1,l_deriv_b1[cont])\n",
    "            cont+=1\n",
    "        mean_deriv_b1 = np.multiply(eta/len(l_deriv_b1),mean_deriv_b1)\n",
    "        w[0] = np.subtract(w[0],mean_deriv_w0)\n",
    "        w[1] = np.subtract(w[1],mean_deriv_w1)\n",
    "        b[0] = np.subtract(b[0],mean_deriv_b0)\n",
    "        b[1] = np.subtract(b[1],mean_deriv_b1)\n",
    "        passo+=100\n",
    "        if passo%5000==0:\n",
    "            print(passo)\n",
    "    return w,b"
   ]
  },
  {
   "cell_type": "code",
   "execution_count": 368,
   "metadata": {},
   "outputs": [
    {
     "name": "stderr",
     "output_type": "stream",
     "text": [
      "C:\\Users\\User-pc\\Anaconda\\lib\\site-packages\\ipykernel_launcher.py:6: RuntimeWarning: overflow encountered in exp\n",
      "  \n"
     ]
    },
    {
     "name": "stdout",
     "output_type": "stream",
     "text": [
      "5000\n",
      "10000\n",
      "15000\n",
      "20000\n",
      "25000\n",
      "30000\n",
      "35000\n",
      "40000\n",
      "45000\n",
      "50000\n"
     ]
    }
   ],
   "source": [
    "w=[]\n",
    "b=[]\n",
    "w0 = np.random.randn(30,784)\n",
    "w1 = np.random.randn(10,30)\n",
    "w.append(w0)\n",
    "w.append(w1)\n",
    "b0 = np.random.randn(30,1)\n",
    "b1 = np.random.randn(10,1)\n",
    "b.append(b0)\n",
    "b.append(b1)\n",
    "w,b=epoch(3,w,b)"
   ]
  },
  {
   "cell_type": "code",
   "execution_count": null,
   "metadata": {
    "collapsed": true
   },
   "outputs": [],
   "source": [
    "a,z=feedforward(i,w,b)"
   ]
  },
  {
   "cell_type": "code",
   "execution_count": 370,
   "metadata": {},
   "outputs": [
    {
     "name": "stderr",
     "output_type": "stream",
     "text": [
      "C:\\Users\\User-pc\\Anaconda\\lib\\site-packages\\ipykernel_launcher.py:6: RuntimeWarning: overflow encountered in exp\n",
      "  \n"
     ]
    },
    {
     "data": {
      "text/plain": [
       "array([[  5.37629335e-05,   1.53479889e-01,   5.37629335e-05,\n",
       "          5.37629335e-05,   1.53479889e-01,   1.53479889e-01,\n",
       "          1.53479889e-01,   5.37629335e-05,   5.37629335e-05,\n",
       "          5.37629335e-05,   5.37629335e-05,   1.53479889e-01,\n",
       "          1.53479889e-01,   5.37629335e-05,   5.37629335e-05,\n",
       "          5.37629335e-05,   1.53479889e-01,   5.37629335e-05,\n",
       "          5.37629335e-05,   5.37629335e-05,   1.53479889e-01,\n",
       "          5.37629335e-05,   1.53479889e-01,   1.53479889e-01,\n",
       "          5.37629335e-05,   5.37629335e-05,   1.53479889e-01,\n",
       "          1.53479889e-01,   5.37629335e-05,   5.37629335e-05],\n",
       "       [  6.16409964e-01,   3.51279471e-01,   6.16409964e-01,\n",
       "          6.16409964e-01,   3.51279471e-01,   3.51279471e-01,\n",
       "          3.51279471e-01,   6.16409964e-01,   6.16409964e-01,\n",
       "          6.16409964e-01,   6.16409964e-01,   3.51279471e-01,\n",
       "          3.51279471e-01,   6.16409964e-01,   6.16409964e-01,\n",
       "          6.16409964e-01,   3.51279471e-01,   6.16409964e-01,\n",
       "          6.16409964e-01,   6.16409964e-01,   3.51279471e-01,\n",
       "          6.16409964e-01,   3.51279471e-01,   3.51279471e-01,\n",
       "          6.16409964e-01,   6.16409964e-01,   3.51279471e-01,\n",
       "          3.51279471e-01,   6.16409964e-01,   6.16409964e-01],\n",
       "       [  8.92755794e-03,   4.92652593e-01,   8.92755794e-03,\n",
       "          8.92755794e-03,   4.92652593e-01,   4.92652593e-01,\n",
       "          4.92652593e-01,   8.92755794e-03,   8.92755794e-03,\n",
       "          8.92755794e-03,   8.92755794e-03,   4.92652593e-01,\n",
       "          4.92652593e-01,   8.92755794e-03,   8.92755794e-03,\n",
       "          8.92755794e-03,   4.92652593e-01,   8.92755794e-03,\n",
       "          8.92755794e-03,   8.92755794e-03,   4.92652593e-01,\n",
       "          8.92755794e-03,   4.92652593e-01,   4.92652593e-01,\n",
       "          8.92755794e-03,   8.92755794e-03,   4.92652593e-01,\n",
       "          4.92652593e-01,   8.92755794e-03,   8.92755794e-03],\n",
       "       [  1.78856919e-05,   7.52880557e-01,   1.78856919e-05,\n",
       "          1.78856919e-05,   7.52880557e-01,   7.52880557e-01,\n",
       "          7.52880557e-01,   1.78856919e-05,   1.78856919e-05,\n",
       "          1.78856919e-05,   1.78856919e-05,   7.52880557e-01,\n",
       "          7.52880557e-01,   1.78856919e-05,   1.78856919e-05,\n",
       "          1.78856919e-05,   7.52880557e-01,   1.78856919e-05,\n",
       "          1.78856919e-05,   1.78856919e-05,   7.52880557e-01,\n",
       "          1.78856919e-05,   7.52880557e-01,   7.52880557e-01,\n",
       "          1.78856919e-05,   1.78856919e-05,   7.52880557e-01,\n",
       "          7.52880557e-01,   1.78856919e-05,   1.78856919e-05],\n",
       "       [  2.75193541e-03,   3.98063416e-01,   2.75193541e-03,\n",
       "          2.75193541e-03,   3.98063416e-01,   3.98063416e-01,\n",
       "          3.98063416e-01,   2.75193541e-03,   2.75193541e-03,\n",
       "          2.75193541e-03,   2.75193541e-03,   3.98063416e-01,\n",
       "          3.98063416e-01,   2.75193541e-03,   2.75193541e-03,\n",
       "          2.75193541e-03,   3.98063416e-01,   2.75193541e-03,\n",
       "          2.75193541e-03,   2.75193541e-03,   3.98063416e-01,\n",
       "          2.75193541e-03,   3.98063416e-01,   3.98063416e-01,\n",
       "          2.75193541e-03,   2.75193541e-03,   3.98063416e-01,\n",
       "          3.98063416e-01,   2.75193541e-03,   2.75193541e-03],\n",
       "       [  4.74436711e-01,   3.95976066e-01,   4.74436711e-01,\n",
       "          4.74436711e-01,   3.95976066e-01,   3.95976066e-01,\n",
       "          3.95976066e-01,   4.74436711e-01,   4.74436711e-01,\n",
       "          4.74436711e-01,   4.74436711e-01,   3.95976066e-01,\n",
       "          3.95976066e-01,   4.74436711e-01,   4.74436711e-01,\n",
       "          4.74436711e-01,   3.95976066e-01,   4.74436711e-01,\n",
       "          4.74436711e-01,   4.74436711e-01,   3.95976066e-01,\n",
       "          4.74436711e-01,   3.95976066e-01,   3.95976066e-01,\n",
       "          4.74436711e-01,   4.74436711e-01,   3.95976066e-01,\n",
       "          3.95976066e-01,   4.74436711e-01,   4.74436711e-01],\n",
       "       [  4.13452616e-03,   4.27585272e-01,   4.13452616e-03,\n",
       "          4.13452616e-03,   4.27585272e-01,   4.27585272e-01,\n",
       "          4.27585272e-01,   4.13452616e-03,   4.13452616e-03,\n",
       "          4.13452616e-03,   4.13452616e-03,   4.27585272e-01,\n",
       "          4.27585272e-01,   4.13452616e-03,   4.13452616e-03,\n",
       "          4.13452616e-03,   4.27585272e-01,   4.13452616e-03,\n",
       "          4.13452616e-03,   4.13452616e-03,   4.27585272e-01,\n",
       "          4.13452616e-03,   4.27585272e-01,   4.27585272e-01,\n",
       "          4.13452616e-03,   4.13452616e-03,   4.27585272e-01,\n",
       "          4.27585272e-01,   4.13452616e-03,   4.13452616e-03],\n",
       "       [  6.74187920e-02,   2.97803112e-01,   6.74187920e-02,\n",
       "          6.74187920e-02,   2.97803112e-01,   2.97803112e-01,\n",
       "          2.97803112e-01,   6.74187920e-02,   6.74187920e-02,\n",
       "          6.74187920e-02,   6.74187920e-02,   2.97803112e-01,\n",
       "          2.97803112e-01,   6.74187920e-02,   6.74187920e-02,\n",
       "          6.74187920e-02,   2.97803112e-01,   6.74187920e-02,\n",
       "          6.74187920e-02,   6.74187920e-02,   2.97803112e-01,\n",
       "          6.74187920e-02,   2.97803112e-01,   2.97803112e-01,\n",
       "          6.74187920e-02,   6.74187920e-02,   2.97803112e-01,\n",
       "          2.97803112e-01,   6.74187920e-02,   6.74187920e-02],\n",
       "       [  4.98020580e-04,   7.89888286e-02,   4.98020580e-04,\n",
       "          4.98020580e-04,   7.89888286e-02,   7.89888286e-02,\n",
       "          7.89888286e-02,   4.98020580e-04,   4.98020580e-04,\n",
       "          4.98020580e-04,   4.98020580e-04,   7.89888286e-02,\n",
       "          7.89888286e-02,   4.98020580e-04,   4.98020580e-04,\n",
       "          4.98020580e-04,   7.89888286e-02,   4.98020580e-04,\n",
       "          4.98020580e-04,   4.98020580e-04,   7.89888286e-02,\n",
       "          4.98020580e-04,   7.89888286e-02,   7.89888286e-02,\n",
       "          4.98020580e-04,   4.98020580e-04,   7.89888286e-02,\n",
       "          7.89888286e-02,   4.98020580e-04,   4.98020580e-04],\n",
       "       [  4.39378799e-02,   7.15031829e-01,   4.39378799e-02,\n",
       "          4.39378799e-02,   7.15031829e-01,   7.15031829e-01,\n",
       "          7.15031829e-01,   4.39378799e-02,   4.39378799e-02,\n",
       "          4.39378799e-02,   4.39378799e-02,   7.15031829e-01,\n",
       "          7.15031829e-01,   4.39378799e-02,   4.39378799e-02,\n",
       "          4.39378799e-02,   7.15031829e-01,   4.39378799e-02,\n",
       "          4.39378799e-02,   4.39378799e-02,   7.15031829e-01,\n",
       "          4.39378799e-02,   7.15031829e-01,   7.15031829e-01,\n",
       "          4.39378799e-02,   4.39378799e-02,   7.15031829e-01,\n",
       "          7.15031829e-01,   4.39378799e-02,   4.39378799e-02]])"
      ]
     },
     "execution_count": 370,
     "metadata": {},
     "output_type": "execute_result"
    }
   ],
   "source": [
    "i=new_digits[0]\n",
    "a,z=feedforward(i,w,b)\n",
    "a[2]"
   ]
  },
  {
   "cell_type": "code",
   "execution_count": 320,
   "metadata": {},
   "outputs": [
    {
     "name": "stderr",
     "output_type": "stream",
     "text": [
      "C:\\Users\\User-pc\\Anaconda\\lib\\site-packages\\ipykernel_launcher.py:6: RuntimeWarning: overflow encountered in exp\n",
      "  \n"
     ]
    }
   ],
   "source": [
    "i=new_digits[0]\n",
    "a,z=feedforward(i,w,b)"
   ]
  },
  {
   "cell_type": "code",
   "execution_count": 190,
   "metadata": {},
   "outputs": [
    {
     "name": "stderr",
     "output_type": "stream",
     "text": [
      "C:\\Users\\User-pc\\Anaconda\\lib\\site-packages\\ipykernel_launcher.py:6: RuntimeWarning: overflow encountered in exp\n",
      "  \n"
     ]
    },
    {
     "data": {
      "text/plain": [
       "30"
      ]
     },
     "execution_count": 190,
     "metadata": {},
     "output_type": "execute_result"
    }
   ],
   "source": [
    "i=new_digits[0]\n",
    "a,z=feedforward(i,w,b)\n",
    "len(a[2][0])"
   ]
  },
  {
   "cell_type": "code",
   "execution_count": 114,
   "metadata": {},
   "outputs": [
    {
     "name": "stderr",
     "output_type": "stream",
     "text": [
      "C:\\Users\\User-pc\\Anaconda\\lib\\site-packages\\ipykernel_launcher.py:6: RuntimeWarning: overflow encountered in exp\n",
      "  \n"
     ]
    },
    {
     "data": {
      "text/plain": [
       "30"
      ]
     },
     "execution_count": 114,
     "metadata": {},
     "output_type": "execute_result"
    }
   ],
   "source": [
    "i=new_digits[0]\n",
    "a,z=feedforward(i,w,b)\n",
    "len(a[1][0])"
   ]
  },
  {
   "cell_type": "code",
   "execution_count": 304,
   "metadata": {},
   "outputs": [
    {
     "data": {
      "text/plain": [
       "array([[ 1.20608799],\n",
       "       [-0.45378913],\n",
       "       [ 0.3676659 ],\n",
       "       [-0.23456003],\n",
       "       [-1.19665762],\n",
       "       [ 0.26654974],\n",
       "       [ 0.46316885],\n",
       "       [-1.94770682],\n",
       "       [-0.28500378],\n",
       "       [ 0.09046538]])"
      ]
     },
     "execution_count": 304,
     "metadata": {},
     "output_type": "execute_result"
    }
   ],
   "source": [
    "b1 = np.random.randn(10,1)\n",
    "b1"
   ]
  },
  {
   "cell_type": "code",
   "execution_count": 104,
   "metadata": {},
   "outputs": [
    {
     "data": {
      "text/plain": [
       "array([[  3.28182316e-01,   4.11751792e-01,   3.28182316e-01,\n",
       "          3.28182316e-01,   3.28182316e-01,   3.28182316e-01,\n",
       "          4.11751792e-01,   3.28182316e-01,   4.11751792e-01,\n",
       "          3.28182316e-01,   3.28182316e-01,   3.28182316e-01,\n",
       "          3.28182316e-01,   4.11751792e-01,   3.28182316e-01,\n",
       "          4.11751792e-01,   3.28182316e-01,   4.11751792e-01,\n",
       "          3.28182316e-01,   4.11751792e-01,   4.11751792e-01,\n",
       "          4.11751792e-01,   3.28182316e-01,   4.11751792e-01,\n",
       "          4.11751792e-01,   4.11751792e-01,   3.28182316e-01,\n",
       "          4.11751792e-01,   3.28182316e-01,   3.28182316e-01],\n",
       "       [  3.43415610e-01,   1.55810949e-04,   3.43415610e-01,\n",
       "          3.43415610e-01,   3.43415610e-01,   3.43415610e-01,\n",
       "          1.55810949e-04,   3.43415610e-01,   1.55810949e-04,\n",
       "          3.43415610e-01,   3.43415610e-01,   3.43415610e-01,\n",
       "          3.43415610e-01,   1.55810949e-04,   3.43415610e-01,\n",
       "          1.55810949e-04,   3.43415610e-01,   1.55810949e-04,\n",
       "          3.43415610e-01,   1.55810949e-04,   1.55810949e-04,\n",
       "          1.55810949e-04,   3.43415610e-01,   1.55810949e-04,\n",
       "          1.55810949e-04,   1.55810949e-04,   3.43415610e-01,\n",
       "          1.55810949e-04,   3.43415610e-01,   3.43415610e-01],\n",
       "       [  4.27083394e-01,   2.67113727e-03,   4.27083394e-01,\n",
       "          4.27083394e-01,   4.27083394e-01,   4.27083394e-01,\n",
       "          2.67113727e-03,   4.27083394e-01,   2.67113727e-03,\n",
       "          4.27083394e-01,   4.27083394e-01,   4.27083394e-01,\n",
       "          4.27083394e-01,   2.67113727e-03,   4.27083394e-01,\n",
       "          2.67113727e-03,   4.27083394e-01,   2.67113727e-03,\n",
       "          4.27083394e-01,   2.67113727e-03,   2.67113727e-03,\n",
       "          2.67113727e-03,   4.27083394e-01,   2.67113727e-03,\n",
       "          2.67113727e-03,   2.67113727e-03,   4.27083394e-01,\n",
       "          2.67113727e-03,   4.27083394e-01,   4.27083394e-01],\n",
       "       [  6.06043934e-01,   1.11650103e-05,   6.06043934e-01,\n",
       "          6.06043934e-01,   6.06043934e-01,   6.06043934e-01,\n",
       "          1.11650103e-05,   6.06043934e-01,   1.11650103e-05,\n",
       "          6.06043934e-01,   6.06043934e-01,   6.06043934e-01,\n",
       "          6.06043934e-01,   1.11650103e-05,   6.06043934e-01,\n",
       "          1.11650103e-05,   6.06043934e-01,   1.11650103e-05,\n",
       "          6.06043934e-01,   1.11650103e-05,   1.11650103e-05,\n",
       "          1.11650103e-05,   6.06043934e-01,   1.11650103e-05,\n",
       "          1.11650103e-05,   1.11650103e-05,   6.06043934e-01,\n",
       "          1.11650103e-05,   6.06043934e-01,   6.06043934e-01],\n",
       "       [  6.78405662e-01,   4.82551720e-04,   6.78405662e-01,\n",
       "          6.78405662e-01,   6.78405662e-01,   6.78405662e-01,\n",
       "          4.82551720e-04,   6.78405662e-01,   4.82551720e-04,\n",
       "          6.78405662e-01,   6.78405662e-01,   6.78405662e-01,\n",
       "          6.78405662e-01,   4.82551720e-04,   6.78405662e-01,\n",
       "          4.82551720e-04,   6.78405662e-01,   4.82551720e-04,\n",
       "          6.78405662e-01,   4.82551720e-04,   4.82551720e-04,\n",
       "          4.82551720e-04,   6.78405662e-01,   4.82551720e-04,\n",
       "          4.82551720e-04,   4.82551720e-04,   6.78405662e-01,\n",
       "          4.82551720e-04,   6.78405662e-01,   6.78405662e-01],\n",
       "       [  6.00560600e-01,   3.53572710e-04,   6.00560600e-01,\n",
       "          6.00560600e-01,   6.00560600e-01,   6.00560600e-01,\n",
       "          3.53572710e-04,   6.00560600e-01,   3.53572710e-04,\n",
       "          6.00560600e-01,   6.00560600e-01,   6.00560600e-01,\n",
       "          6.00560600e-01,   3.53572710e-04,   6.00560600e-01,\n",
       "          3.53572710e-04,   6.00560600e-01,   3.53572710e-04,\n",
       "          6.00560600e-01,   3.53572710e-04,   3.53572710e-04,\n",
       "          3.53572710e-04,   6.00560600e-01,   3.53572710e-04,\n",
       "          3.53572710e-04,   3.53572710e-04,   6.00560600e-01,\n",
       "          3.53572710e-04,   6.00560600e-01,   6.00560600e-01],\n",
       "       [  4.60814267e-01,   1.23172887e-01,   4.60814267e-01,\n",
       "          4.60814267e-01,   4.60814267e-01,   4.60814267e-01,\n",
       "          1.23172887e-01,   4.60814267e-01,   1.23172887e-01,\n",
       "          4.60814267e-01,   4.60814267e-01,   4.60814267e-01,\n",
       "          4.60814267e-01,   1.23172887e-01,   4.60814267e-01,\n",
       "          1.23172887e-01,   4.60814267e-01,   1.23172887e-01,\n",
       "          4.60814267e-01,   1.23172887e-01,   1.23172887e-01,\n",
       "          1.23172887e-01,   4.60814267e-01,   1.23172887e-01,\n",
       "          1.23172887e-01,   1.23172887e-01,   4.60814267e-01,\n",
       "          1.23172887e-01,   4.60814267e-01,   4.60814267e-01],\n",
       "       [  4.27329815e-01,   1.09118378e-02,   4.27329815e-01,\n",
       "          4.27329815e-01,   4.27329815e-01,   4.27329815e-01,\n",
       "          1.09118378e-02,   4.27329815e-01,   1.09118378e-02,\n",
       "          4.27329815e-01,   4.27329815e-01,   4.27329815e-01,\n",
       "          4.27329815e-01,   1.09118378e-02,   4.27329815e-01,\n",
       "          1.09118378e-02,   4.27329815e-01,   1.09118378e-02,\n",
       "          4.27329815e-01,   1.09118378e-02,   1.09118378e-02,\n",
       "          1.09118378e-02,   4.27329815e-01,   1.09118378e-02,\n",
       "          1.09118378e-02,   1.09118378e-02,   4.27329815e-01,\n",
       "          1.09118378e-02,   4.27329815e-01,   4.27329815e-01],\n",
       "       [  4.07897318e-01,   2.32947487e-04,   4.07897318e-01,\n",
       "          4.07897318e-01,   4.07897318e-01,   4.07897318e-01,\n",
       "          2.32947487e-04,   4.07897318e-01,   2.32947487e-04,\n",
       "          4.07897318e-01,   4.07897318e-01,   4.07897318e-01,\n",
       "          4.07897318e-01,   2.32947487e-04,   4.07897318e-01,\n",
       "          2.32947487e-04,   4.07897318e-01,   2.32947487e-04,\n",
       "          4.07897318e-01,   2.32947487e-04,   2.32947487e-04,\n",
       "          2.32947487e-04,   4.07897318e-01,   2.32947487e-04,\n",
       "          2.32947487e-04,   2.32947487e-04,   4.07897318e-01,\n",
       "          2.32947487e-04,   4.07897318e-01,   4.07897318e-01],\n",
       "       [  7.69818827e-02,   9.54779692e-04,   7.69818827e-02,\n",
       "          7.69818827e-02,   7.69818827e-02,   7.69818827e-02,\n",
       "          9.54779692e-04,   7.69818827e-02,   9.54779692e-04,\n",
       "          7.69818827e-02,   7.69818827e-02,   7.69818827e-02,\n",
       "          7.69818827e-02,   9.54779692e-04,   7.69818827e-02,\n",
       "          9.54779692e-04,   7.69818827e-02,   9.54779692e-04,\n",
       "          7.69818827e-02,   9.54779692e-04,   9.54779692e-04,\n",
       "          9.54779692e-04,   7.69818827e-02,   9.54779692e-04,\n",
       "          9.54779692e-04,   9.54779692e-04,   7.69818827e-02,\n",
       "          9.54779692e-04,   7.69818827e-02,   7.69818827e-02]])"
      ]
     },
     "execution_count": 104,
     "metadata": {},
     "output_type": "execute_result"
    }
   ],
   "source": [
    "a[2]"
   ]
  },
  {
   "cell_type": "code",
   "execution_count": 42,
   "metadata": {},
   "outputs": [
    {
     "data": {
      "text/plain": [
       "[9]"
      ]
     },
     "execution_count": 42,
     "metadata": {},
     "output_type": "execute_result"
    }
   ],
   "source": [
    "[1,2,3,4,5,6,7,8,9][:4]\n",
    "a=[1,2,3,4,5,6,7,8,9][4:]\n",
    "a[4:]\n",
    "eta=3"
   ]
  },
  {
   "cell_type": "code",
   "execution_count": 74,
   "metadata": {},
   "outputs": [
    {
     "data": {
      "text/plain": [
       "array([[0, 0, 0, 0, 0, 0, 0, 0, 0, 0],\n",
       "       [0, 0, 0, 0, 0, 0, 0, 0, 0, 0],\n",
       "       [0, 0, 0, 0, 0, 0, 0, 0, 0, 0],\n",
       "       [0, 0, 0, 0, 0, 0, 0, 0, 0, 0],\n",
       "       [0, 0, 0, 0, 0, 0, 0, 0, 0, 0],\n",
       "       [0, 0, 0, 0, 0, 0, 0, 0, 0, 0],\n",
       "       [0, 0, 0, 0, 0, 0, 0, 0, 0, 0],\n",
       "       [0, 0, 0, 0, 0, 0, 0, 0, 0, 0],\n",
       "       [0, 0, 0, 0, 0, 0, 0, 0, 0, 0],\n",
       "       [0, 0, 0, 0, 0, 0, 0, 0, 0, 0]])"
      ]
     },
     "execution_count": 74,
     "metadata": {},
     "output_type": "execute_result"
    }
   ],
   "source": [
    "aa=[[1 for i in np.arange(0,10)] for i in np.arange(0,10)]\n",
    "np.matrix(aa)\n",
    "ab=[[1 for i in np.arange(0,10)] for i in np.arange(0,10)]\n",
    "np.matrix(ab)\n",
    "#np.add(aa,ab)\n",
    "np.subtract(aa,ab)"
   ]
  },
  {
   "cell_type": "code",
   "execution_count": 348,
   "metadata": {},
   "outputs": [
    {
     "data": {
      "text/plain": [
       "array([[1, 2, 3, 4, 5, 6]])"
      ]
     },
     "execution_count": 348,
     "metadata": {},
     "output_type": "execute_result"
    }
   ],
   "source": [
    "ff=np.array([[1,2,3],[4,5,6]])\n",
    "np.resize(ff,(1,6))\n"
   ]
  },
  {
   "cell_type": "code",
   "execution_count": 300,
   "metadata": {},
   "outputs": [
    {
     "data": {
      "text/plain": [
       "matrix([[3, 6],\n",
       "        [3, 6]])"
      ]
     },
     "execution_count": 300,
     "metadata": {},
     "output_type": "execute_result"
    }
   ],
   "source": [
    "s=np.matrix('1,2;1,2')\n",
    "ss=np.matrix('1,2;1,2')\n",
    "np.dot(s,ss)"
   ]
  },
  {
   "cell_type": "code",
   "execution_count": 302,
   "metadata": {},
   "outputs": [
    {
     "ename": "SyntaxError",
     "evalue": "invalid syntax (<ipython-input-302-e073c3f4165e>, line 33)",
     "output_type": "error",
     "traceback": [
      "\u001b[1;36m  File \u001b[1;32m\"<ipython-input-302-e073c3f4165e>\"\u001b[1;36m, line \u001b[1;32m33\u001b[0m\n\u001b[1;33m    0.29784984\u001b[0m\n\u001b[1;37m             ^\u001b[0m\n\u001b[1;31mSyntaxError\u001b[0m\u001b[1;31m:\u001b[0m invalid syntax\n"
     ]
    }
   ],
   "source": [
    "kk=[[ 3495.93305194]\n",
    " [ 2309.44205931]\n",
    " [-1538.43166525]\n",
    " [-4354.97176587]\n",
    " [-1722.1941443 ]\n",
    " [ -116.45783507]\n",
    " [  511.60215533]\n",
    " [-1865.86281056]\n",
    " [-3405.56526365]\n",
    " [-2026.9890001 ]\n",
    " [ -653.545974  ]\n",
    " [ 1262.77805592]\n",
    " [-3273.07703311]\n",
    " [ 1800.15452869]\n",
    " [-1289.69855766]\n",
    " [-2401.52034368]\n",
    " [-2761.8326662 ]\n",
    " [   61.10424664]\n",
    " [ -343.83145781]\n",
    " [-1160.72317054]\n",
    " [-2545.96158699]\n",
    " [ 2951.45933329]\n",
    " [ 1627.13837676]\n",
    " [ 1204.17734677]\n",
    " [ 4157.50499083]\n",
    " [ 2939.26044339]\n",
    " [  981.93032985]\n",
    " [-3940.7161395 ]\n",
    " [-6506.05743237]\n",
    " [-4382.93828813]]\n",
    "kkk=[-0.83531214\n",
    "     -1.03067013 \n",
    "     0.29784984\n",
    "     0.62321164\n",
    "     -1.7832455 \n",
    "     -0.44610049\n",
    "  0.23478798  0.82816775  0.10016847  0.37661515 -0.02132568  0.53276125\n",
    " -1.22000654  0.79959899 -0.72478409  0.05631258 -0.75506897  0.15592068\n",
    "  0.01298866 -0.46866541 -0.15002919  1.40475922  1.30763051  0.32020513\n",
    " -0.11282627  0.98082362  1.87972589  0.80133476  0.05545351  1.10746091]\n",
    "np.add(kk,kkk)\n"
   ]
  },
  {
   "cell_type": "code",
   "execution_count": null,
   "metadata": {
    "collapsed": true
   },
   "outputs": [],
   "source": []
  }
 ],
 "metadata": {
  "kernelspec": {
   "display_name": "Python 3",
   "language": "python",
   "name": "python3"
  },
  "language_info": {
   "codemirror_mode": {
    "name": "ipython",
    "version": 3
   },
   "file_extension": ".py",
   "mimetype": "text/x-python",
   "name": "python",
   "nbconvert_exporter": "python",
   "pygments_lexer": "ipython3",
   "version": "3.6.1"
  }
 },
 "nbformat": 4,
 "nbformat_minor": 2
}
