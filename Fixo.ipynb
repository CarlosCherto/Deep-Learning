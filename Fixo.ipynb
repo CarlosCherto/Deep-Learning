{
 "cells": [
  {
   "cell_type": "code",
   "execution_count": 49,
   "metadata": {
    "collapsed": true
   },
   "outputs": [],
   "source": [
    "import random\n",
    "from base64 import b64decode\n",
    "from json import loads\n",
    "import numpy as np\n",
    "import matplotlib.pyplot as plt\n",
    "%matplotlib inline\n",
    "from sklearn.cluster import KMeans\n",
    "import sklearn\n",
    "from scipy.stats import mode\n",
    "from sklearn.metrics import confusion_matrix\n",
    "import seaborn as sns; sns.set()"
   ]
  },
  {
   "cell_type": "code",
   "execution_count": 50,
   "metadata": {
    "collapsed": true
   },
   "outputs": [],
   "source": [
    "def ler(x):\n",
    "\n",
    "    digit = loads(x)\n",
    "    array = np.fromstring(b64decode(digit[\"data\"]),dtype=np.ubyte)\n",
    "    array = array.astype(np.float64)\n",
    "    return (digit[\"label\"], array)"
   ]
  },
  {
   "cell_type": "code",
   "execution_count": 51,
   "metadata": {
    "collapsed": true
   },
   "outputs": [],
   "source": [
    "with open(\"digits.base64.json\",\"r\") as f:\n",
    "    digits = map(ler, f.readlines())\n",
    "digits=list(digits)"
   ]
  },
  {
   "cell_type": "code",
   "execution_count": 52,
   "metadata": {
    "collapsed": true
   },
   "outputs": [],
   "source": [
    "def display_digit(digit, labeled = True, title = \"\"):\n",
    "    if labeled:\n",
    "        digit = digit[1]\n",
    "    image = digit\n",
    "    plt.figure()\n",
    "    fig = plt.imshow(image.reshape(28,28))\n",
    "    fig.set_cmap('gray_r')\n",
    "    fig.axes.get_xaxis().set_visible(False)\n",
    "    fig.axes.get_yaxis().set_visible(False)\n",
    "    if title != \"\":\n",
    "        plt.title(\"Inferred label: \" + str(title))"
   ]
  },
  {
   "cell_type": "code",
   "execution_count": 53,
   "metadata": {
    "collapsed": true
   },
   "outputs": [],
   "source": [
    "new_digits=[]\n",
    "cont=0\n",
    "while cont<len(digits):\n",
    "    new_digits.append(digits[cont][1])\n",
    "    cont+=1"
   ]
  },
  {
   "cell_type": "code",
   "execution_count": 54,
   "metadata": {
    "collapsed": true
   },
   "outputs": [],
   "source": [
    "digits_treino=digits[:len(digits)*5//6]\n",
    "digits_val=digits[len(digits)*5//6:]\n",
    "new_digits_treino=new_digits[:len(new_digits)*5//6]\n",
    "new_digits_val=new_digits[len(new_digits)*5//6:]"
   ]
  },
  {
   "cell_type": "code",
   "execution_count": 55,
   "metadata": {
    "collapsed": true
   },
   "outputs": [],
   "source": [
    "r=[]\n",
    "y=[]\n",
    "cont=0\n",
    "while cont<len(digits):\n",
    "    r.append(digits[cont][0])\n",
    "    cont+=1\n",
    "y=[[[0] for i in np.arange(0,10)] for j in np.arange(0,60000)]\n",
    "cont=0\n",
    "while cont<len(digits):\n",
    "    y[cont][r[cont]][0]=1\n",
    "    cont+=1"
   ]
  },
  {
   "cell_type": "markdown",
   "metadata": {},
   "source": [
    "Neural Network"
   ]
  },
  {
   "cell_type": "code",
   "execution_count": 56,
   "metadata": {
    "collapsed": true
   },
   "outputs": [],
   "source": [
    "n1=784\n",
    "n2=30\n",
    "n3=10\n",
    "size=[n1,n2,n3]"
   ]
  },
  {
   "cell_type": "code",
   "execution_count": 57,
   "metadata": {
    "collapsed": true
   },
   "outputs": [],
   "source": [
    "def apply_sig(z,deriv=False):\n",
    "    cont=0\n",
    "    while cont<len(z):\n",
    "        z[cont]=sig(z[cont],deriv)\n",
    "        cont+=1\n",
    "    return z"
   ]
  },
  {
   "cell_type": "code",
   "execution_count": 58,
   "metadata": {
    "collapsed": true
   },
   "outputs": [],
   "source": [
    "def plus(dp,b):\n",
    "    cont=0\n",
    "    z=[]\n",
    "    while cont<len(b):\n",
    "        z.append(dp[cont]+b[cont][0])\n",
    "        cont+=1\n",
    "    return z"
   ]
  },
  {
   "cell_type": "code",
   "execution_count": 59,
   "metadata": {
    "collapsed": true
   },
   "outputs": [],
   "source": [
    "def minus(a,y):\n",
    "    cont=0\n",
    "    r=[]\n",
    "    while cont<len(a):\n",
    "        r.append(a[cont][0]-y[cont][0])\n",
    "        cont+=1\n",
    "    return r"
   ]
  },
  {
   "cell_type": "code",
   "execution_count": 60,
   "metadata": {
    "collapsed": true
   },
   "outputs": [],
   "source": [
    "def sig(x, deriv=False):\n",
    "    \n",
    "    if deriv:\n",
    "        return sig(x)*(1-sig(x))\n",
    "    \n",
    "    return 1/(1+np.exp(-x))"
   ]
  },
  {
   "cell_type": "code",
   "execution_count": 61,
   "metadata": {},
   "outputs": [],
   "source": [
    "def feedforward(i,w,b):\n",
    "    z = []\n",
    "    a = []\n",
    "    a.append(i)\n",
    "    cont=0\n",
    "    while cont<2:\n",
    "        #print(0)\n",
    "        #print(w[cont])\n",
    "        #print(1)\n",
    "        #print(a[cont])\n",
    "        #print(2)\n",
    "        dp = np.dot(w[cont],a[cont])\n",
    "        #print(dp)\n",
    "        #print(3)\n",
    "        #print(b[cont])\n",
    "        #print(4)\n",
    "        #print(plus(dp,b[cont]))\n",
    "        #print(5)\n",
    "        z.append(plus(dp,b[cont]))\n",
    "        #print(apply_sig(z[cont]))\n",
    "        var = apply_sig(z[cont])\n",
    "        a.append(var)\n",
    "        cont+=1\n",
    "    return a,z"
   ]
  },
  {
   "cell_type": "code",
   "execution_count": 95,
   "metadata": {},
   "outputs": [
    {
     "name": "stderr",
     "output_type": "stream",
     "text": [
      "C:\\Users\\User-pc\\Anaconda\\lib\\site-packages\\ipykernel_launcher.py:6: RuntimeWarning: overflow encountered in exp\n",
      "  \n"
     ]
    },
    {
     "data": {
      "text/plain": [
       "[5.383621861620514e-05,\n",
       " 0.99986649933689875,\n",
       " 0.9985069290361398,\n",
       " 0.9984349981963444,\n",
       " 0.99352514552749693,\n",
       " 0.033538960627020137,\n",
       " 0.044142430000642323,\n",
       " 0.91415271886063088,\n",
       " 0.28471170125742606,\n",
       " 0.98795346324692523]"
      ]
     },
     "execution_count": 95,
     "metadata": {},
     "output_type": "execute_result"
    }
   ],
   "source": [
    "w=[]\n",
    "b=[]\n",
    "w0 = np.random.randn(30,784)\n",
    "w1 = np.random.randn(10,30)\n",
    "w.append(w0)\n",
    "w.append(w1)\n",
    "b0 = np.random.randn(30,1)\n",
    "b1 = np.random.randn(10,1)\n",
    "b.append(b0)\n",
    "b.append(b1)\n",
    "i=new_digits[0]\n",
    "a,z=feedforward(i,w,b)\n",
    "a[2]"
   ]
  },
  {
   "cell_type": "code",
   "execution_count": 63,
   "metadata": {
    "collapsed": true
   },
   "outputs": [],
   "source": [
    "# i=new_digits[0]\n",
    "# z = []\n",
    "# a = []\n",
    "# a.append(i)\n",
    "# cont=0\n",
    "# while cont<2:\n",
    "#     dp = np.dot(w[cont],a[cont])\n",
    "#     #print(w[cont])\n",
    "#     #print(0)\n",
    "#     print(a[cont])\n",
    "#     print(b[cont])\n",
    "#     print(1)\n",
    "#     print(dp)\n",
    "#     print(2)\n",
    "#     z.append(plus(dp,b[cont]))\n",
    "#     print(z[cont])\n",
    "#     print(len(z[cont]))\n",
    "#     #print(z[cont])\n",
    "#     #print(3)\n",
    "#     var = apply_sig(z[cont])\n",
    "#     print(var)\n",
    "#     a.append(var)\n",
    "#     cont+=1\n",
    "# a[2]"
   ]
  },
  {
   "cell_type": "code",
   "execution_count": 64,
   "metadata": {
    "collapsed": true
   },
   "outputs": [],
   "source": [
    "# w=[]\n",
    "# b=[]\n",
    "# w0 = np.random.randn(30,784)\n",
    "# w1 = np.random.randn(10,30)\n",
    "# w.append(w0)\n",
    "# w.append(w1)\n",
    "# b0 = np.random.randn(30,)\n",
    "# b1 = np.random.randn(10,)\n",
    "# b.append(b0)\n",
    "# b.append(b1)\n",
    "# i = new_digits[0]\n",
    "# ava=feedforward(i,w,b)"
   ]
  },
  {
   "cell_type": "code",
   "execution_count": 65,
   "metadata": {
    "collapsed": true
   },
   "outputs": [],
   "source": [
    "def custox(a, cont):\n",
    "    var = a[2]-y[cont]\n",
    "    var = np.linalg.norm(var)\n",
    "    cx = (var**2)/2\n",
    "    return cx"
   ]
  },
  {
   "cell_type": "code",
   "execution_count": 66,
   "metadata": {
    "collapsed": true
   },
   "outputs": [],
   "source": [
    "def BP(a,z,cont):\n",
    "    delta=[[],[]]\n",
    "    #BP1\n",
    "    #print(6)\n",
    "    #print(a[2])\n",
    "    #print(a[2][1][0])\n",
    "    #print(7)\n",
    "    #print(y[cont])\n",
    "    #print(y[cont][1][0])\n",
    "    #print(11)\n",
    "    var=minus(a[2],y[cont])\n",
    "    var2=apply_sig(z[1],deriv=True)\n",
    "    delta[1]=np.multiply(var,var2)\n",
    "    #BP2\n",
    "    var=np.dot(w[1].transpose(),delta[1])\n",
    "    var2=apply_sig(z[0],deriv=True)\n",
    "    delta[0]=np.multiply(var,var2)\n",
    "    #BP3\n",
    "    deriv_b=[[],[]]\n",
    "    cont=0\n",
    "    while cont<len(delta[0]):\n",
    "        deriv_b[0].append(delta[0][cont])\n",
    "        cont+=1\n",
    "    cont=0\n",
    "    while cont<len(delta[1]):\n",
    "        deriv_b[1].append(delta[1][cont])\n",
    "        cont+=1\n",
    "    #BP4\n",
    "    deriv_w = [0,0]\n",
    "    matrix = [[0 for i in np.arange(0,n1)] for j in np.arange(0,n2)]\n",
    "    cont=0\n",
    "    while cont<len(delta[0]):\n",
    "        cont2=0\n",
    "        while cont2<len(a[0]):\n",
    "            matrix[cont][cont2] = a[0][cont2][0]*delta[0][cont][0]\n",
    "            #if cont == 0 and cont2 == 0:\n",
    "                #print(a[0][cont2])\n",
    "                #print(delta[0][cont])\n",
    "            cont2+=1\n",
    "        cont+=1\n",
    "    deriv_w[0]=matrix\n",
    "    \n",
    "    matrix = [[0 for i in np.arange(0,n2)] for j in np.arange(0,n3)]\n",
    "    cont=0\n",
    "    while cont<len(delta[1]):\n",
    "        cont2=0\n",
    "        while cont2<len(a[1]):\n",
    "            matrix[cont][cont2] = a[1][cont2][0]*delta[1][cont][0]\n",
    "            cont2+=1\n",
    "        cont+=1\n",
    "    deriv_w[1]=matrix\n",
    "    return deriv_w, deriv_b"
   ]
  },
  {
   "cell_type": "code",
   "execution_count": 67,
   "metadata": {
    "collapsed": true
   },
   "outputs": [],
   "source": [
    "def mini_batch(l,w,b):\n",
    "    l_deriv_w0=[]\n",
    "    l_deriv_w1=[]\n",
    "    l_deriv_b0=[]\n",
    "    l_deriv_b1=[]\n",
    "    cont=0\n",
    "    while cont<len(l):\n",
    "        i=np.resize(new_digits[l[cont]],(784,1))\n",
    "        a,z = feedforward(i,w,b)\n",
    "        deriv_w, deriv_b = BP(a,z,l[cont])\n",
    "        l_deriv_w0.append(deriv_w[0])\n",
    "        l_deriv_w1.append(deriv_w[1])\n",
    "        l_deriv_b0.append(deriv_b[0])\n",
    "        l_deriv_b1.append(deriv_b[1])\n",
    "        cont+=1\n",
    "    return l_deriv_w0,l_deriv_w1, l_deriv_b0, l_deriv_b1\n",
    "        \n",
    "    "
   ]
  },
  {
   "cell_type": "code",
   "execution_count": 68,
   "metadata": {
    "collapsed": true
   },
   "outputs": [],
   "source": [
    "def epoch(eta,w,b):\n",
    "    passo=0\n",
    "    todos=np.arange(0,50000)\n",
    "    todos=np.random.shuffle(todos)\n",
    "    while len(todos) != 0:\n",
    "        l_deriv_w0,l_deriv_w1, l_deriv_b0, l_deriv_b1 = mini_batch(todos[:100],w,b)\n",
    "        todos=todos[100:]\n",
    "        mean_deriv_w0=l_deriv_w0[0]\n",
    "        mean_deriv_w1=l_deriv_w1[0]\n",
    "        mean_deriv_b0=l_deriv_b0[0]\n",
    "        mean_deriv_b1=l_deriv_b1[0]\n",
    "        cont=1\n",
    "        while cont < len(l_deriv_w0):\n",
    "            mean_deriv_w0 = np.add(mean_deriv_w0,l_deriv_w0[cont])\n",
    "            cont+=1\n",
    "        mean_deriv_w0 = np.multiply(eta/len(l_deriv_w0),mean_deriv_w0)\n",
    "        \n",
    "        cont=1\n",
    "        while cont < len(l_deriv_w1):\n",
    "            mean_deriv_w1 = np.add(mean_deriv_w1,l_deriv_w1[cont])\n",
    "            cont+=1\n",
    "        mean_deriv_w1 = np.multiply(eta/len(l_deriv_w1),mean_deriv_w1)\n",
    "        \n",
    "        cont=1\n",
    "        while cont < len(l_deriv_b0):\n",
    "            mean_deriv_b0 = np.add(mean_deriv_b0,l_deriv_b0[cont])\n",
    "            cont+=1\n",
    "        mean_deriv_b0 = np.multiply(eta/len(l_deriv_b0),mean_deriv_b0)\n",
    "        \n",
    "        cont=1\n",
    "        while cont < len(l_deriv_b1):\n",
    "            mean_deriv_b1 = np.add(mean_deriv_b1,l_deriv_b1[cont])\n",
    "            cont+=1\n",
    "        mean_deriv_b1 = np.multiply(eta/len(l_deriv_b1),mean_deriv_b1)\n",
    "        print(w[0])\n",
    "        print(1)\n",
    "        print(mean_deriv_w0)\n",
    "        w[0] = np.subtract(w[0],mean_deriv_w0)\n",
    "        print(2)\n",
    "        print(w[0])\n",
    "        w[1] = np.subtract(w[1],mean_deriv_w1)\n",
    "        print(3)\n",
    "        print(b[0])\n",
    "        print(4)\n",
    "        print(mean_deriv_b0)\n",
    "        b[0] = np.subtract(b[0],mean_deriv_b0)\n",
    "        print(5)\n",
    "        print(b[0])\n",
    "        print(6)\n",
    "        b[1] = np.subtract(b[1],mean_deriv_b1)\n",
    "        passo+=100\n",
    "        if passo%5000==0:\n",
    "            print(passo)\n",
    "    return w,b"
   ]
  },
  {
   "cell_type": "code",
   "execution_count": null,
   "metadata": {
    "collapsed": true
   },
   "outputs": [],
   "source": []
  },
  {
   "cell_type": "code",
   "execution_count": 92,
   "metadata": {},
   "outputs": [
    {
     "name": "stderr",
     "output_type": "stream",
     "text": [
      "C:\\Users\\User-pc\\Anaconda\\lib\\site-packages\\ipykernel_launcher.py:6: RuntimeWarning: overflow encountered in exp\n",
      "  \n"
     ]
    },
    {
     "ename": "KeyboardInterrupt",
     "evalue": "",
     "output_type": "error",
     "traceback": [
      "\u001b[1;31m---------------------------------------------------------------------------\u001b[0m",
      "\u001b[1;31mKeyboardInterrupt\u001b[0m                         Traceback (most recent call last)",
      "\u001b[1;32m<ipython-input-92-fafe6176b2bc>\u001b[0m in \u001b[0;36m<module>\u001b[1;34m()\u001b[0m\n\u001b[0;32m      9\u001b[0m \u001b[0mb\u001b[0m\u001b[1;33m.\u001b[0m\u001b[0mappend\u001b[0m\u001b[1;33m(\u001b[0m\u001b[0mb0\u001b[0m\u001b[1;33m)\u001b[0m\u001b[1;33m\u001b[0m\u001b[0m\n\u001b[0;32m     10\u001b[0m \u001b[0mb\u001b[0m\u001b[1;33m.\u001b[0m\u001b[0mappend\u001b[0m\u001b[1;33m(\u001b[0m\u001b[0mb1\u001b[0m\u001b[1;33m)\u001b[0m\u001b[1;33m\u001b[0m\u001b[0m\n\u001b[1;32m---> 11\u001b[1;33m \u001b[0mw\u001b[0m\u001b[1;33m,\u001b[0m\u001b[0mb\u001b[0m\u001b[1;33m=\u001b[0m\u001b[0mepoch\u001b[0m\u001b[1;33m(\u001b[0m\u001b[1;36m3\u001b[0m\u001b[1;33m,\u001b[0m\u001b[0mw\u001b[0m\u001b[1;33m,\u001b[0m\u001b[0mb\u001b[0m\u001b[1;33m)\u001b[0m\u001b[1;33m\u001b[0m\u001b[0m\n\u001b[0m",
      "\u001b[1;32m<ipython-input-68-e996b81b5555>\u001b[0m in \u001b[0;36mepoch\u001b[1;34m(eta, w, b)\u001b[0m\n\u001b[0;32m      4\u001b[0m     \u001b[0mnp\u001b[0m\u001b[1;33m.\u001b[0m\u001b[0mrandom\u001b[0m\u001b[1;33m.\u001b[0m\u001b[0mshuffle\u001b[0m\u001b[1;33m(\u001b[0m\u001b[0mtodos\u001b[0m\u001b[1;33m)\u001b[0m\u001b[1;33m\u001b[0m\u001b[0m\n\u001b[0;32m      5\u001b[0m     \u001b[1;32mwhile\u001b[0m \u001b[0mlen\u001b[0m\u001b[1;33m(\u001b[0m\u001b[0mtodos\u001b[0m\u001b[1;33m)\u001b[0m \u001b[1;33m!=\u001b[0m \u001b[1;36m0\u001b[0m\u001b[1;33m:\u001b[0m\u001b[1;33m\u001b[0m\u001b[0m\n\u001b[1;32m----> 6\u001b[1;33m         \u001b[0ml_deriv_w0\u001b[0m\u001b[1;33m,\u001b[0m\u001b[0ml_deriv_w1\u001b[0m\u001b[1;33m,\u001b[0m \u001b[0ml_deriv_b0\u001b[0m\u001b[1;33m,\u001b[0m \u001b[0ml_deriv_b1\u001b[0m \u001b[1;33m=\u001b[0m \u001b[0mmini_batch\u001b[0m\u001b[1;33m(\u001b[0m\u001b[0mtodos\u001b[0m\u001b[1;33m[\u001b[0m\u001b[1;33m:\u001b[0m\u001b[1;36m100\u001b[0m\u001b[1;33m]\u001b[0m\u001b[1;33m,\u001b[0m\u001b[0mw\u001b[0m\u001b[1;33m,\u001b[0m\u001b[0mb\u001b[0m\u001b[1;33m)\u001b[0m\u001b[1;33m\u001b[0m\u001b[0m\n\u001b[0m\u001b[0;32m      7\u001b[0m         \u001b[0mtodos\u001b[0m\u001b[1;33m=\u001b[0m\u001b[0mtodos\u001b[0m\u001b[1;33m[\u001b[0m\u001b[1;36m100\u001b[0m\u001b[1;33m:\u001b[0m\u001b[1;33m]\u001b[0m\u001b[1;33m\u001b[0m\u001b[0m\n\u001b[0;32m      8\u001b[0m         \u001b[0mmean_deriv_w0\u001b[0m\u001b[1;33m=\u001b[0m\u001b[0ml_deriv_w0\u001b[0m\u001b[1;33m[\u001b[0m\u001b[1;36m0\u001b[0m\u001b[1;33m]\u001b[0m\u001b[1;33m\u001b[0m\u001b[0m\n",
      "\u001b[1;32m<ipython-input-67-22a01430b5f9>\u001b[0m in \u001b[0;36mmini_batch\u001b[1;34m(l, w, b)\u001b[0m\n\u001b[0;32m      8\u001b[0m         \u001b[0mi\u001b[0m\u001b[1;33m=\u001b[0m\u001b[0mnp\u001b[0m\u001b[1;33m.\u001b[0m\u001b[0mresize\u001b[0m\u001b[1;33m(\u001b[0m\u001b[0mnew_digits\u001b[0m\u001b[1;33m[\u001b[0m\u001b[0ml\u001b[0m\u001b[1;33m[\u001b[0m\u001b[0mcont\u001b[0m\u001b[1;33m]\u001b[0m\u001b[1;33m]\u001b[0m\u001b[1;33m,\u001b[0m\u001b[1;33m(\u001b[0m\u001b[1;36m784\u001b[0m\u001b[1;33m,\u001b[0m\u001b[1;36m1\u001b[0m\u001b[1;33m)\u001b[0m\u001b[1;33m)\u001b[0m\u001b[1;33m\u001b[0m\u001b[0m\n\u001b[0;32m      9\u001b[0m         \u001b[0ma\u001b[0m\u001b[1;33m,\u001b[0m\u001b[0mz\u001b[0m \u001b[1;33m=\u001b[0m \u001b[0mfeedforward\u001b[0m\u001b[1;33m(\u001b[0m\u001b[0mi\u001b[0m\u001b[1;33m,\u001b[0m\u001b[0mw\u001b[0m\u001b[1;33m,\u001b[0m\u001b[0mb\u001b[0m\u001b[1;33m)\u001b[0m\u001b[1;33m\u001b[0m\u001b[0m\n\u001b[1;32m---> 10\u001b[1;33m         \u001b[0mderiv_w\u001b[0m\u001b[1;33m,\u001b[0m \u001b[0mderiv_b\u001b[0m \u001b[1;33m=\u001b[0m \u001b[0mBP\u001b[0m\u001b[1;33m(\u001b[0m\u001b[0ma\u001b[0m\u001b[1;33m,\u001b[0m\u001b[0mz\u001b[0m\u001b[1;33m,\u001b[0m\u001b[0ml\u001b[0m\u001b[1;33m[\u001b[0m\u001b[0mcont\u001b[0m\u001b[1;33m]\u001b[0m\u001b[1;33m)\u001b[0m\u001b[1;33m\u001b[0m\u001b[0m\n\u001b[0m\u001b[0;32m     11\u001b[0m         \u001b[0ml_deriv_w0\u001b[0m\u001b[1;33m.\u001b[0m\u001b[0mappend\u001b[0m\u001b[1;33m(\u001b[0m\u001b[0mderiv_w\u001b[0m\u001b[1;33m[\u001b[0m\u001b[1;36m0\u001b[0m\u001b[1;33m]\u001b[0m\u001b[1;33m)\u001b[0m\u001b[1;33m\u001b[0m\u001b[0m\n\u001b[0;32m     12\u001b[0m         \u001b[0ml_deriv_w1\u001b[0m\u001b[1;33m.\u001b[0m\u001b[0mappend\u001b[0m\u001b[1;33m(\u001b[0m\u001b[0mderiv_w\u001b[0m\u001b[1;33m[\u001b[0m\u001b[1;36m1\u001b[0m\u001b[1;33m]\u001b[0m\u001b[1;33m)\u001b[0m\u001b[1;33m\u001b[0m\u001b[0m\n",
      "\u001b[1;32m<ipython-input-66-30344e598987>\u001b[0m in \u001b[0;36mBP\u001b[1;34m(a, z, cont)\u001b[0m\n\u001b[0;32m     15\u001b[0m     \u001b[0mvar\u001b[0m\u001b[1;33m=\u001b[0m\u001b[0mnp\u001b[0m\u001b[1;33m.\u001b[0m\u001b[0mdot\u001b[0m\u001b[1;33m(\u001b[0m\u001b[0mw\u001b[0m\u001b[1;33m[\u001b[0m\u001b[1;36m1\u001b[0m\u001b[1;33m]\u001b[0m\u001b[1;33m.\u001b[0m\u001b[0mtranspose\u001b[0m\u001b[1;33m(\u001b[0m\u001b[1;33m)\u001b[0m\u001b[1;33m,\u001b[0m\u001b[0mdelta\u001b[0m\u001b[1;33m[\u001b[0m\u001b[1;36m1\u001b[0m\u001b[1;33m]\u001b[0m\u001b[1;33m)\u001b[0m\u001b[1;33m\u001b[0m\u001b[0m\n\u001b[0;32m     16\u001b[0m     \u001b[0mvar2\u001b[0m\u001b[1;33m=\u001b[0m\u001b[0mapply_sig\u001b[0m\u001b[1;33m(\u001b[0m\u001b[0mz\u001b[0m\u001b[1;33m[\u001b[0m\u001b[1;36m0\u001b[0m\u001b[1;33m]\u001b[0m\u001b[1;33m,\u001b[0m\u001b[0mderiv\u001b[0m\u001b[1;33m=\u001b[0m\u001b[1;32mTrue\u001b[0m\u001b[1;33m)\u001b[0m\u001b[1;33m\u001b[0m\u001b[0m\n\u001b[1;32m---> 17\u001b[1;33m     \u001b[0mdelta\u001b[0m\u001b[1;33m[\u001b[0m\u001b[1;36m0\u001b[0m\u001b[1;33m]\u001b[0m\u001b[1;33m=\u001b[0m\u001b[0mnp\u001b[0m\u001b[1;33m.\u001b[0m\u001b[0mmultiply\u001b[0m\u001b[1;33m(\u001b[0m\u001b[0mvar\u001b[0m\u001b[1;33m,\u001b[0m\u001b[0mvar2\u001b[0m\u001b[1;33m)\u001b[0m\u001b[1;33m\u001b[0m\u001b[0m\n\u001b[0m\u001b[0;32m     18\u001b[0m     \u001b[1;31m#BP3\u001b[0m\u001b[1;33m\u001b[0m\u001b[1;33m\u001b[0m\u001b[0m\n\u001b[0;32m     19\u001b[0m     \u001b[0mderiv_b\u001b[0m\u001b[1;33m=\u001b[0m\u001b[1;33m[\u001b[0m\u001b[1;33m[\u001b[0m\u001b[1;33m]\u001b[0m\u001b[1;33m,\u001b[0m\u001b[1;33m[\u001b[0m\u001b[1;33m]\u001b[0m\u001b[1;33m]\u001b[0m\u001b[1;33m\u001b[0m\u001b[0m\n",
      "\u001b[1;31mKeyboardInterrupt\u001b[0m: "
     ]
    }
   ],
   "source": [
    "w=[]\n",
    "b=[]\n",
    "w0 = np.random.randn(30,784)\n",
    "w1 = np.random.randn(10,30)\n",
    "w.append(w0)\n",
    "w.append(w1)\n",
    "b0 = np.random.randn(30,1)\n",
    "b1 = np.random.randn(10,1)\n",
    "b.append(b0)\n",
    "b.append(b1)\n",
    "w,b=epoch(3,w,b)"
   ]
  },
  {
   "cell_type": "code",
   "execution_count": 76,
   "metadata": {},
   "outputs": [
    {
     "name": "stderr",
     "output_type": "stream",
     "text": [
      "C:\\Users\\User-pc\\Anaconda\\lib\\site-packages\\ipykernel_launcher.py:6: RuntimeWarning: overflow encountered in exp\n",
      "  \n"
     ]
    },
    {
     "data": {
      "text/plain": [
       "(5646, 44354)"
      ]
     },
     "execution_count": 76,
     "metadata": {},
     "output_type": "execute_result"
    }
   ],
   "source": [
    "cont=0\n",
    "acertos=0\n",
    "erros=0\n",
    "while cont<50000:\n",
    "    i=new_digits[cont]\n",
    "    a,z=feedforward(i,w,b)\n",
    "    m=max(a[2])\n",
    "    cont2=0\n",
    "    while cont2<len(a[2]):\n",
    "        if m==a[2][cont2]:\n",
    "            break\n",
    "        cont2+=1\n",
    "    if r[cont]==cont2:\n",
    "        acertos+=1\n",
    "    else:\n",
    "        erros+=1\n",
    "    cont+=1\n",
    "(acertos,erros)"
   ]
  },
  {
   "cell_type": "code",
   "execution_count": 91,
   "metadata": {},
   "outputs": [
    {
     "data": {
      "text/plain": [
       "array([[ -1.49068823e+00,  -3.49716644e-01,  -1.01852355e+00,\n",
       "          8.51607796e-01,  -8.64003013e-01,  -2.59791681e-01,\n",
       "         -1.21081351e+00,   1.55416503e+00,  -1.21614517e+00,\n",
       "          4.29074993e-01,  -9.99404885e-01,  -1.07797237e+00,\n",
       "          2.87585959e-01,  -2.00008863e+00,   4.77524808e-01,\n",
       "          4.67001270e-01,   5.87840984e-03,  -5.03751778e-01,\n",
       "         -7.42902309e-01,   6.12971145e-01,  -4.32032331e-01,\n",
       "         -6.72845818e-01,  -5.46385695e-01,   5.05289871e-01,\n",
       "         -1.51071185e+00,  -1.38966188e+00,   7.25476941e-01,\n",
       "         -2.03072407e+00,   4.41959670e-01,  -1.75859228e-01],\n",
       "       [ -2.35602062e+00,  -2.11749117e+00,   3.83804729e-01,\n",
       "         -9.88441800e-01,  -2.88542246e+00,   4.71694203e-01,\n",
       "         -1.20021636e+00,   3.16709037e-03,  -1.07787485e+00,\n",
       "         -1.10657134e+00,   1.44871693e+00,  -8.18840702e-01,\n",
       "          8.62799020e-02,  -1.56469370e-01,  -7.78570945e-01,\n",
       "          1.69481447e-01,  -2.22558525e+00,  -1.47189877e+00,\n",
       "          8.16753492e-02,  -1.11113989e-01,   7.32972053e-01,\n",
       "         -1.84262886e+00,  -1.14458996e+00,  -1.32477546e+00,\n",
       "         -4.61050171e-01,  -9.98431716e-01,  -2.82584074e+00,\n",
       "         -2.09701268e+00,   7.63840199e-01,  -1.45055407e+00],\n",
       "       [ -7.26350076e-01,   1.97487685e+00,   1.91256316e+00,\n",
       "         -6.28392581e-01,  -1.80898570e+00,  -2.32806508e-01,\n",
       "         -1.44358116e+00,   1.99919096e+00,   1.83954855e-01,\n",
       "         -8.35685452e-01,  -2.80278004e-01,  -7.63695581e-01,\n",
       "         -2.19563953e+00,  -1.20489854e+00,   9.57151370e-01,\n",
       "          5.39222742e-01,  -7.59265316e-01,   6.87621611e-02,\n",
       "         -5.32420060e-01,   6.66449792e-01,   2.91191450e-01,\n",
       "          5.19491583e-01,  -1.34517358e+00,   7.86155005e-01,\n",
       "         -5.14297921e-01,  -5.20186268e-01,  -1.15944015e-02,\n",
       "         -1.02816214e+00,  -1.73286930e+00,   1.14132697e+00],\n",
       "       [ -1.41532795e+00,  -5.51209186e-01,  -8.54918718e-01,\n",
       "          4.97471807e-01,  -1.82642651e-01,  -5.61660023e-01,\n",
       "         -1.97045601e+00,  -4.97517569e-01,  -1.83715953e+00,\n",
       "         -4.46418773e-01,  -1.87448838e+00,   4.22074220e-01,\n",
       "         -1.27391186e+00,  -2.10475637e+00,  -1.09299369e+00,\n",
       "          8.99842605e-01,  -1.16777276e+00,  -7.21395531e-01,\n",
       "         -1.09567666e+00,  -3.06323832e-01,  -7.90006294e-01,\n",
       "         -5.19195715e-01,  -4.81407829e-01,   2.10017887e-01,\n",
       "         -6.21469139e-01,  -2.04603028e+00,   2.34157753e-01,\n",
       "         -1.46176040e+00,  -1.68303142e+00,  -2.52460544e-02],\n",
       "       [ -1.07491263e+00,   1.59872625e-01,  -1.55599404e-01,\n",
       "         -1.46850384e+00,  -2.92427545e-01,  -1.84121641e+00,\n",
       "         -1.30325074e+00,  -7.17304284e-01,  -6.69528707e-01,\n",
       "         -1.19248539e+00,  -6.50919714e-02,  -1.72132307e-01,\n",
       "         -3.23788007e-02,  -1.22429997e+00,  -1.91824513e+00,\n",
       "          1.32937784e+00,   5.00504776e-01,  -8.41234323e-01,\n",
       "         -6.87879393e-01,  -7.80239485e-01,  -1.06432024e+00,\n",
       "         -5.85980296e-01,   1.26088894e-03,   1.29861720e+00,\n",
       "          1.77507199e-01,   5.77814072e-01,   1.77683279e-01,\n",
       "         -1.05903222e+00,  -2.48358658e+00,   9.56088827e-01],\n",
       "       [ -2.13361238e-01,  -1.28047860e+00,  -1.64156338e+00,\n",
       "         -6.44556316e-01,  -9.43469903e-01,   6.81557808e-02,\n",
       "         -3.87275698e-01,   2.73029346e-02,  -6.22797361e-03,\n",
       "         -9.48904713e-01,  -2.65209689e-01,  -5.66716998e-02,\n",
       "         -1.65499427e+00,  -2.09979523e+00,   4.87709294e-02,\n",
       "         -6.46961125e-01,  -1.46081906e+00,  -9.49208217e-01,\n",
       "         -1.43204839e+00,  -4.90284376e-01,   1.50906703e+00,\n",
       "          7.46565410e-01,  -1.52353759e-01,   1.06186758e+00,\n",
       "         -2.39508443e+00,  -7.49888360e-01,  -1.89534448e+00,\n",
       "         -9.25470334e-01,  -1.45502200e+00,  -2.17095680e-01],\n",
       "       [ -1.02111083e+00,   5.91530308e-01,  -1.33232995e+00,\n",
       "         -7.76569064e-01,  -1.64515638e-01,  -2.29841707e+00,\n",
       "         -3.95806597e-01,  -6.34174624e-01,  -9.31938007e-01,\n",
       "         -2.54014229e+00,  -6.12188927e-01,  -1.52975093e+00,\n",
       "         -5.96673069e-01,  -1.55615032e+00,  -1.57718962e+00,\n",
       "         -6.29647422e-01,   1.13746672e-02,  -1.59272698e-01,\n",
       "         -1.52334402e+00,   4.78496721e-01,  -8.85063234e-01,\n",
       "         -6.45915748e-01,  -2.02831039e-01,  -6.70585599e-01,\n",
       "          3.96481984e-01,  -9.60513184e-01,  -1.13884546e+00,\n",
       "          1.05791844e+00,  -1.52137933e+00,  -1.00459558e+00],\n",
       "       [ -1.43001909e+00,  -4.83900741e-01,  -5.34906685e-01,\n",
       "         -9.29768952e-01,   6.37907088e-01,   6.83526738e-01,\n",
       "          1.30886219e+00,  -1.92095168e+00,   6.29060112e-03,\n",
       "         -1.38353739e+00,  -1.46587793e+00,  -3.09140741e-01,\n",
       "         -2.21630234e+00,  -4.46676403e-01,  -6.51032024e-02,\n",
       "         -5.78138079e-01,  -1.74284430e+00,   6.24360326e-01,\n",
       "          6.77968331e-01,  -2.07200630e+00,  -2.10849922e+00,\n",
       "         -4.78541799e-01,   2.69267390e-01,  -5.01163918e-01,\n",
       "         -1.77956784e+00,  -1.51887395e+00,  -1.94868515e+00,\n",
       "         -1.61606907e+00,   1.69251703e+00,  -1.79918707e+00],\n",
       "       [  2.09979742e+00,   2.35546478e+00,  -1.00630249e+00,\n",
       "         -3.85655914e-01,   1.06150366e+00,  -4.78609980e-02,\n",
       "          5.69974585e-01,   1.74286608e+00,  -9.44371835e-01,\n",
       "         -2.32085239e-01,  -7.74479200e-01,   2.66965824e-01,\n",
       "         -8.26025848e-02,   1.92062177e+00,   9.87896145e-02,\n",
       "          1.12861900e+00,  -2.27818343e-01,  -7.47755131e-01,\n",
       "         -1.08123716e+00,   5.08721764e-01,   3.07510412e-01,\n",
       "         -8.10481402e-02,  -1.69670935e+00,   1.22565842e+00,\n",
       "         -8.55781311e-01,   2.88344129e-02,  -5.82903366e-01,\n",
       "          3.31446391e-02,  -1.57499636e+00,   1.48650973e+00],\n",
       "       [ -2.26003969e+00,   5.03692045e-02,  -7.23714569e-01,\n",
       "         -1.13199545e+00,  -7.32816125e-01,  -1.74206324e+00,\n",
       "          8.01836826e-02,  -1.52807113e+00,  -4.50165671e-01,\n",
       "         -8.19602768e-01,  -1.49401244e+00,  -1.60026247e+00,\n",
       "         -1.74175038e+00,   8.65634217e-01,  -8.72345906e-01,\n",
       "         -1.38323824e+00,  -1.21307141e+00,  -1.54535844e+00,\n",
       "         -2.60922052e+00,  -9.71195260e-01,  -1.41064289e+00,\n",
       "         -1.64533925e+00,   5.58797369e-02,  -9.59731245e-01,\n",
       "         -1.63310749e+00,  -4.21032823e-01,  -6.96074426e-01,\n",
       "         -1.11369818e+00,  -2.15274961e-01,  -7.75193303e-01]])"
      ]
     },
     "execution_count": 91,
     "metadata": {},
     "output_type": "execute_result"
    }
   ],
   "source": [
    "b=[]\n",
    "b0 = np.random.randn(30,1)\n",
    "b1 = np.random.randn(10,1)\n",
    "b.append(b0)\n",
    "b.append(b1)"
   ]
  },
  {
   "cell_type": "code",
   "execution_count": 70,
   "metadata": {},
   "outputs": [
    {
     "name": "stderr",
     "output_type": "stream",
     "text": [
      "C:\\Users\\User-pc\\Anaconda\\lib\\site-packages\\ipykernel_launcher.py:6: RuntimeWarning: overflow encountered in exp\n",
      "  \n"
     ]
    }
   ],
   "source": [
    "i=new_digits[0]\n",
    "a,z=feedforward(i,w,b)"
   ]
  },
  {
   "cell_type": "code",
   "execution_count": 71,
   "metadata": {},
   "outputs": [
    {
     "data": {
      "text/plain": [
       "[0.27598397132726393,\n",
       " 0.00010052320436998881,\n",
       " 0.99848171001478747,\n",
       " 0.048734035566415645,\n",
       " 0.24140383732089463,\n",
       " 0.0062216771415414401,\n",
       " 0.0013226000553016328,\n",
       " 0.00011955108287633742,\n",
       " 0.99786745797891574,\n",
       " 0.00029511052887722176]"
      ]
     },
     "execution_count": 71,
     "metadata": {},
     "output_type": "execute_result"
    }
   ],
   "source": [
    "a[2]"
   ]
  },
  {
   "cell_type": "code",
   "execution_count": 320,
   "metadata": {},
   "outputs": [
    {
     "name": "stderr",
     "output_type": "stream",
     "text": [
      "C:\\Users\\User-pc\\Anaconda\\lib\\site-packages\\ipykernel_launcher.py:6: RuntimeWarning: overflow encountered in exp\n",
      "  \n"
     ]
    }
   ],
   "source": [
    "i=new_digits[0]\n",
    "a,z=feedforward(i,w,b)"
   ]
  },
  {
   "cell_type": "code",
   "execution_count": 190,
   "metadata": {},
   "outputs": [
    {
     "name": "stderr",
     "output_type": "stream",
     "text": [
      "C:\\Users\\User-pc\\Anaconda\\lib\\site-packages\\ipykernel_launcher.py:6: RuntimeWarning: overflow encountered in exp\n",
      "  \n"
     ]
    },
    {
     "data": {
      "text/plain": [
       "30"
      ]
     },
     "execution_count": 190,
     "metadata": {},
     "output_type": "execute_result"
    }
   ],
   "source": [
    "i=new_digits[0]\n",
    "a,z=feedforward(i,w,b)\n",
    "len(a[2][0])"
   ]
  },
  {
   "cell_type": "code",
   "execution_count": 73,
   "metadata": {},
   "outputs": [
    {
     "name": "stderr",
     "output_type": "stream",
     "text": [
      "C:\\Users\\User-pc\\Anaconda\\lib\\site-packages\\ipykernel_launcher.py:6: RuntimeWarning: overflow encountered in exp\n",
      "  \n"
     ]
    },
    {
     "data": {
      "text/plain": [
       "5"
      ]
     },
     "execution_count": 73,
     "metadata": {},
     "output_type": "execute_result"
    }
   ],
   "source": [
    "i=new_digits[0]\n",
    "a,z=feedforward(i,w,b)\n",
    "r[0]"
   ]
  },
  {
   "cell_type": "code",
   "execution_count": 74,
   "metadata": {},
   "outputs": [
    {
     "data": {
      "text/plain": [
       "[array([   0.,    0.,    0.,    0.,    0.,    0.,    0.,    0.,    0.,\n",
       "           0.,    0.,    0.,    0.,    0.,    0.,    0.,    0.,    0.,\n",
       "           0.,    0.,    0.,    0.,    0.,    0.,    0.,    0.,    0.,\n",
       "           0.,    0.,    0.,    0.,    0.,    0.,    0.,    0.,    0.,\n",
       "           0.,    0.,    0.,    0.,    0.,    0.,    0.,    0.,    0.,\n",
       "           0.,    0.,    0.,    0.,    0.,    0.,    0.,    0.,    0.,\n",
       "           0.,    0.,    0.,    0.,    0.,    0.,    0.,    0.,    0.,\n",
       "           0.,    0.,    0.,    0.,    0.,    0.,    0.,    0.,    0.,\n",
       "           0.,    0.,    0.,    0.,    0.,    0.,    0.,    0.,    0.,\n",
       "           0.,    0.,    0.,    0.,    0.,    0.,    0.,    0.,    0.,\n",
       "           0.,    0.,    0.,    0.,    0.,    0.,    0.,    0.,    0.,\n",
       "           0.,    0.,    0.,    0.,    0.,    0.,    0.,    0.,    0.,\n",
       "           0.,    0.,    0.,    0.,    0.,    0.,    0.,    0.,    0.,\n",
       "           0.,    0.,    0.,    0.,    0.,    0.,    0.,    0.,    0.,\n",
       "           0.,    0.,    0.,    0.,    0.,    0.,    0.,    0.,    0.,\n",
       "           0.,    0.,    0.,    0.,    0.,    0.,    0.,    0.,    0.,\n",
       "           0.,    0.,    0.,    0.,    0.,    0.,    0.,    0.,    3.,\n",
       "          18.,   18.,   18.,  126.,  136.,  175.,   26.,  166.,  255.,\n",
       "         247.,  127.,    0.,    0.,    0.,    0.,    0.,    0.,    0.,\n",
       "           0.,    0.,    0.,    0.,    0.,   30.,   36.,   94.,  154.,\n",
       "         170.,  253.,  253.,  253.,  253.,  253.,  225.,  172.,  253.,\n",
       "         242.,  195.,   64.,    0.,    0.,    0.,    0.,    0.,    0.,\n",
       "           0.,    0.,    0.,    0.,    0.,   49.,  238.,  253.,  253.,\n",
       "         253.,  253.,  253.,  253.,  253.,  253.,  251.,   93.,   82.,\n",
       "          82.,   56.,   39.,    0.,    0.,    0.,    0.,    0.,    0.,\n",
       "           0.,    0.,    0.,    0.,    0.,    0.,   18.,  219.,  253.,\n",
       "         253.,  253.,  253.,  253.,  198.,  182.,  247.,  241.,    0.,\n",
       "           0.,    0.,    0.,    0.,    0.,    0.,    0.,    0.,    0.,\n",
       "           0.,    0.,    0.,    0.,    0.,    0.,    0.,    0.,   80.,\n",
       "         156.,  107.,  253.,  253.,  205.,   11.,    0.,   43.,  154.,\n",
       "           0.,    0.,    0.,    0.,    0.,    0.,    0.,    0.,    0.,\n",
       "           0.,    0.,    0.,    0.,    0.,    0.,    0.,    0.,    0.,\n",
       "           0.,   14.,    1.,  154.,  253.,   90.,    0.,    0.,    0.,\n",
       "           0.,    0.,    0.,    0.,    0.,    0.,    0.,    0.,    0.,\n",
       "           0.,    0.,    0.,    0.,    0.,    0.,    0.,    0.,    0.,\n",
       "           0.,    0.,    0.,    0.,  139.,  253.,  190.,    2.,    0.,\n",
       "           0.,    0.,    0.,    0.,    0.,    0.,    0.,    0.,    0.,\n",
       "           0.,    0.,    0.,    0.,    0.,    0.,    0.,    0.,    0.,\n",
       "           0.,    0.,    0.,    0.,    0.,   11.,  190.,  253.,   70.,\n",
       "           0.,    0.,    0.,    0.,    0.,    0.,    0.,    0.,    0.,\n",
       "           0.,    0.,    0.,    0.,    0.,    0.,    0.,    0.,    0.,\n",
       "           0.,    0.,    0.,    0.,    0.,    0.,    0.,   35.,  241.,\n",
       "         225.,  160.,  108.,    1.,    0.,    0.,    0.,    0.,    0.,\n",
       "           0.,    0.,    0.,    0.,    0.,    0.,    0.,    0.,    0.,\n",
       "           0.,    0.,    0.,    0.,    0.,    0.,    0.,    0.,    0.,\n",
       "          81.,  240.,  253.,  253.,  119.,   25.,    0.,    0.,    0.,\n",
       "           0.,    0.,    0.,    0.,    0.,    0.,    0.,    0.,    0.,\n",
       "           0.,    0.,    0.,    0.,    0.,    0.,    0.,    0.,    0.,\n",
       "           0.,    0.,   45.,  186.,  253.,  253.,  150.,   27.,    0.,\n",
       "           0.,    0.,    0.,    0.,    0.,    0.,    0.,    0.,    0.,\n",
       "           0.,    0.,    0.,    0.,    0.,    0.,    0.,    0.,    0.,\n",
       "           0.,    0.,    0.,    0.,   16.,   93.,  252.,  253.,  187.,\n",
       "           0.,    0.,    0.,    0.,    0.,    0.,    0.,    0.,    0.,\n",
       "           0.,    0.,    0.,    0.,    0.,    0.,    0.,    0.,    0.,\n",
       "           0.,    0.,    0.,    0.,    0.,    0.,    0.,  249.,  253.,\n",
       "         249.,   64.,    0.,    0.,    0.,    0.,    0.,    0.,    0.,\n",
       "           0.,    0.,    0.,    0.,    0.,    0.,    0.,    0.,    0.,\n",
       "           0.,    0.,    0.,    0.,    0.,   46.,  130.,  183.,  253.,\n",
       "         253.,  207.,    2.,    0.,    0.,    0.,    0.,    0.,    0.,\n",
       "           0.,    0.,    0.,    0.,    0.,    0.,    0.,    0.,    0.,\n",
       "           0.,    0.,    0.,    0.,   39.,  148.,  229.,  253.,  253.,\n",
       "         253.,  250.,  182.,    0.,    0.,    0.,    0.,    0.,    0.,\n",
       "           0.,    0.,    0.,    0.,    0.,    0.,    0.,    0.,    0.,\n",
       "           0.,    0.,    0.,   24.,  114.,  221.,  253.,  253.,  253.,\n",
       "         253.,  201.,   78.,    0.,    0.,    0.,    0.,    0.,    0.,\n",
       "           0.,    0.,    0.,    0.,    0.,    0.,    0.,    0.,    0.,\n",
       "           0.,    0.,   23.,   66.,  213.,  253.,  253.,  253.,  253.,\n",
       "         198.,   81.,    2.,    0.,    0.,    0.,    0.,    0.,    0.,\n",
       "           0.,    0.,    0.,    0.,    0.,    0.,    0.,    0.,    0.,\n",
       "           0.,   18.,  171.,  219.,  253.,  253.,  253.,  253.,  195.,\n",
       "          80.,    9.,    0.,    0.,    0.,    0.,    0.,    0.,    0.,\n",
       "           0.,    0.,    0.,    0.,    0.,    0.,    0.,    0.,    0.,\n",
       "          55.,  172.,  226.,  253.,  253.,  253.,  253.,  244.,  133.,\n",
       "          11.,    0.,    0.,    0.,    0.,    0.,    0.,    0.,    0.,\n",
       "           0.,    0.,    0.,    0.,    0.,    0.,    0.,    0.,    0.,\n",
       "           0.,  136.,  253.,  253.,  253.,  212.,  135.,  132.,   16.,\n",
       "           0.,    0.,    0.,    0.,    0.,    0.,    0.,    0.,    0.,\n",
       "           0.,    0.,    0.,    0.,    0.,    0.,    0.,    0.,    0.,\n",
       "           0.,    0.,    0.,    0.,    0.,    0.,    0.,    0.,    0.,\n",
       "           0.,    0.,    0.,    0.,    0.,    0.,    0.,    0.,    0.,\n",
       "           0.,    0.,    0.,    0.,    0.,    0.,    0.,    0.,    0.,\n",
       "           0.,    0.,    0.,    0.,    0.,    0.,    0.,    0.,    0.,\n",
       "           0.,    0.,    0.,    0.,    0.,    0.,    0.,    0.,    0.,\n",
       "           0.,    0.,    0.,    0.,    0.,    0.,    0.,    0.,    0.,\n",
       "           0.,    0.,    0.,    0.,    0.,    0.,    0.,    0.,    0.,\n",
       "           0.,    0.,    0.,    0.,    0.,    0.,    0.,    0.,    0.,\n",
       "           0.,    0.,    0.,    0.,    0.,    0.,    0.,    0.,    0.,    0.]),\n",
       " [0.0,\n",
       "  1.0,\n",
       "  0.0,\n",
       "  0.0,\n",
       "  0.0,\n",
       "  0.0,\n",
       "  0.0,\n",
       "  1.0,\n",
       "  0.0,\n",
       "  0.0,\n",
       "  0.0,\n",
       "  0.0,\n",
       "  0.0,\n",
       "  0.0,\n",
       "  0.0,\n",
       "  1.0,\n",
       "  0.0,\n",
       "  0.0,\n",
       "  0.0,\n",
       "  0.0,\n",
       "  0.0,\n",
       "  0.0,\n",
       "  0.0,\n",
       "  1.0,\n",
       "  0.0,\n",
       "  0.0,\n",
       "  0.0,\n",
       "  0.0,\n",
       "  0.0,\n",
       "  1.0],\n",
       " [0.27598397132726393,\n",
       "  0.00010052320436998881,\n",
       "  0.99848171001478747,\n",
       "  0.048734035566415645,\n",
       "  0.24140383732089463,\n",
       "  0.0062216771415414401,\n",
       "  0.0013226000553016328,\n",
       "  0.00011955108287633742,\n",
       "  0.99786745797891574,\n",
       "  0.00029511052887722176]]"
      ]
     },
     "execution_count": 74,
     "metadata": {},
     "output_type": "execute_result"
    }
   ],
   "source": [
    "a"
   ]
  },
  {
   "cell_type": "code",
   "execution_count": 104,
   "metadata": {},
   "outputs": [
    {
     "data": {
      "text/plain": [
       "array([[  3.28182316e-01,   4.11751792e-01,   3.28182316e-01,\n",
       "          3.28182316e-01,   3.28182316e-01,   3.28182316e-01,\n",
       "          4.11751792e-01,   3.28182316e-01,   4.11751792e-01,\n",
       "          3.28182316e-01,   3.28182316e-01,   3.28182316e-01,\n",
       "          3.28182316e-01,   4.11751792e-01,   3.28182316e-01,\n",
       "          4.11751792e-01,   3.28182316e-01,   4.11751792e-01,\n",
       "          3.28182316e-01,   4.11751792e-01,   4.11751792e-01,\n",
       "          4.11751792e-01,   3.28182316e-01,   4.11751792e-01,\n",
       "          4.11751792e-01,   4.11751792e-01,   3.28182316e-01,\n",
       "          4.11751792e-01,   3.28182316e-01,   3.28182316e-01],\n",
       "       [  3.43415610e-01,   1.55810949e-04,   3.43415610e-01,\n",
       "          3.43415610e-01,   3.43415610e-01,   3.43415610e-01,\n",
       "          1.55810949e-04,   3.43415610e-01,   1.55810949e-04,\n",
       "          3.43415610e-01,   3.43415610e-01,   3.43415610e-01,\n",
       "          3.43415610e-01,   1.55810949e-04,   3.43415610e-01,\n",
       "          1.55810949e-04,   3.43415610e-01,   1.55810949e-04,\n",
       "          3.43415610e-01,   1.55810949e-04,   1.55810949e-04,\n",
       "          1.55810949e-04,   3.43415610e-01,   1.55810949e-04,\n",
       "          1.55810949e-04,   1.55810949e-04,   3.43415610e-01,\n",
       "          1.55810949e-04,   3.43415610e-01,   3.43415610e-01],\n",
       "       [  4.27083394e-01,   2.67113727e-03,   4.27083394e-01,\n",
       "          4.27083394e-01,   4.27083394e-01,   4.27083394e-01,\n",
       "          2.67113727e-03,   4.27083394e-01,   2.67113727e-03,\n",
       "          4.27083394e-01,   4.27083394e-01,   4.27083394e-01,\n",
       "          4.27083394e-01,   2.67113727e-03,   4.27083394e-01,\n",
       "          2.67113727e-03,   4.27083394e-01,   2.67113727e-03,\n",
       "          4.27083394e-01,   2.67113727e-03,   2.67113727e-03,\n",
       "          2.67113727e-03,   4.27083394e-01,   2.67113727e-03,\n",
       "          2.67113727e-03,   2.67113727e-03,   4.27083394e-01,\n",
       "          2.67113727e-03,   4.27083394e-01,   4.27083394e-01],\n",
       "       [  6.06043934e-01,   1.11650103e-05,   6.06043934e-01,\n",
       "          6.06043934e-01,   6.06043934e-01,   6.06043934e-01,\n",
       "          1.11650103e-05,   6.06043934e-01,   1.11650103e-05,\n",
       "          6.06043934e-01,   6.06043934e-01,   6.06043934e-01,\n",
       "          6.06043934e-01,   1.11650103e-05,   6.06043934e-01,\n",
       "          1.11650103e-05,   6.06043934e-01,   1.11650103e-05,\n",
       "          6.06043934e-01,   1.11650103e-05,   1.11650103e-05,\n",
       "          1.11650103e-05,   6.06043934e-01,   1.11650103e-05,\n",
       "          1.11650103e-05,   1.11650103e-05,   6.06043934e-01,\n",
       "          1.11650103e-05,   6.06043934e-01,   6.06043934e-01],\n",
       "       [  6.78405662e-01,   4.82551720e-04,   6.78405662e-01,\n",
       "          6.78405662e-01,   6.78405662e-01,   6.78405662e-01,\n",
       "          4.82551720e-04,   6.78405662e-01,   4.82551720e-04,\n",
       "          6.78405662e-01,   6.78405662e-01,   6.78405662e-01,\n",
       "          6.78405662e-01,   4.82551720e-04,   6.78405662e-01,\n",
       "          4.82551720e-04,   6.78405662e-01,   4.82551720e-04,\n",
       "          6.78405662e-01,   4.82551720e-04,   4.82551720e-04,\n",
       "          4.82551720e-04,   6.78405662e-01,   4.82551720e-04,\n",
       "          4.82551720e-04,   4.82551720e-04,   6.78405662e-01,\n",
       "          4.82551720e-04,   6.78405662e-01,   6.78405662e-01],\n",
       "       [  6.00560600e-01,   3.53572710e-04,   6.00560600e-01,\n",
       "          6.00560600e-01,   6.00560600e-01,   6.00560600e-01,\n",
       "          3.53572710e-04,   6.00560600e-01,   3.53572710e-04,\n",
       "          6.00560600e-01,   6.00560600e-01,   6.00560600e-01,\n",
       "          6.00560600e-01,   3.53572710e-04,   6.00560600e-01,\n",
       "          3.53572710e-04,   6.00560600e-01,   3.53572710e-04,\n",
       "          6.00560600e-01,   3.53572710e-04,   3.53572710e-04,\n",
       "          3.53572710e-04,   6.00560600e-01,   3.53572710e-04,\n",
       "          3.53572710e-04,   3.53572710e-04,   6.00560600e-01,\n",
       "          3.53572710e-04,   6.00560600e-01,   6.00560600e-01],\n",
       "       [  4.60814267e-01,   1.23172887e-01,   4.60814267e-01,\n",
       "          4.60814267e-01,   4.60814267e-01,   4.60814267e-01,\n",
       "          1.23172887e-01,   4.60814267e-01,   1.23172887e-01,\n",
       "          4.60814267e-01,   4.60814267e-01,   4.60814267e-01,\n",
       "          4.60814267e-01,   1.23172887e-01,   4.60814267e-01,\n",
       "          1.23172887e-01,   4.60814267e-01,   1.23172887e-01,\n",
       "          4.60814267e-01,   1.23172887e-01,   1.23172887e-01,\n",
       "          1.23172887e-01,   4.60814267e-01,   1.23172887e-01,\n",
       "          1.23172887e-01,   1.23172887e-01,   4.60814267e-01,\n",
       "          1.23172887e-01,   4.60814267e-01,   4.60814267e-01],\n",
       "       [  4.27329815e-01,   1.09118378e-02,   4.27329815e-01,\n",
       "          4.27329815e-01,   4.27329815e-01,   4.27329815e-01,\n",
       "          1.09118378e-02,   4.27329815e-01,   1.09118378e-02,\n",
       "          4.27329815e-01,   4.27329815e-01,   4.27329815e-01,\n",
       "          4.27329815e-01,   1.09118378e-02,   4.27329815e-01,\n",
       "          1.09118378e-02,   4.27329815e-01,   1.09118378e-02,\n",
       "          4.27329815e-01,   1.09118378e-02,   1.09118378e-02,\n",
       "          1.09118378e-02,   4.27329815e-01,   1.09118378e-02,\n",
       "          1.09118378e-02,   1.09118378e-02,   4.27329815e-01,\n",
       "          1.09118378e-02,   4.27329815e-01,   4.27329815e-01],\n",
       "       [  4.07897318e-01,   2.32947487e-04,   4.07897318e-01,\n",
       "          4.07897318e-01,   4.07897318e-01,   4.07897318e-01,\n",
       "          2.32947487e-04,   4.07897318e-01,   2.32947487e-04,\n",
       "          4.07897318e-01,   4.07897318e-01,   4.07897318e-01,\n",
       "          4.07897318e-01,   2.32947487e-04,   4.07897318e-01,\n",
       "          2.32947487e-04,   4.07897318e-01,   2.32947487e-04,\n",
       "          4.07897318e-01,   2.32947487e-04,   2.32947487e-04,\n",
       "          2.32947487e-04,   4.07897318e-01,   2.32947487e-04,\n",
       "          2.32947487e-04,   2.32947487e-04,   4.07897318e-01,\n",
       "          2.32947487e-04,   4.07897318e-01,   4.07897318e-01],\n",
       "       [  7.69818827e-02,   9.54779692e-04,   7.69818827e-02,\n",
       "          7.69818827e-02,   7.69818827e-02,   7.69818827e-02,\n",
       "          9.54779692e-04,   7.69818827e-02,   9.54779692e-04,\n",
       "          7.69818827e-02,   7.69818827e-02,   7.69818827e-02,\n",
       "          7.69818827e-02,   9.54779692e-04,   7.69818827e-02,\n",
       "          9.54779692e-04,   7.69818827e-02,   9.54779692e-04,\n",
       "          7.69818827e-02,   9.54779692e-04,   9.54779692e-04,\n",
       "          9.54779692e-04,   7.69818827e-02,   9.54779692e-04,\n",
       "          9.54779692e-04,   9.54779692e-04,   7.69818827e-02,\n",
       "          9.54779692e-04,   7.69818827e-02,   7.69818827e-02]])"
      ]
     },
     "execution_count": 104,
     "metadata": {},
     "output_type": "execute_result"
    }
   ],
   "source": [
    "a[2]"
   ]
  },
  {
   "cell_type": "code",
   "execution_count": 42,
   "metadata": {},
   "outputs": [
    {
     "data": {
      "text/plain": [
       "[9]"
      ]
     },
     "execution_count": 42,
     "metadata": {},
     "output_type": "execute_result"
    }
   ],
   "source": [
    "[1,2,3,4,5,6,7,8,9][:4]\n",
    "a=[1,2,3,4,5,6,7,8,9][4:]\n",
    "a[4:]\n",
    "eta=3"
   ]
  },
  {
   "cell_type": "code",
   "execution_count": 74,
   "metadata": {},
   "outputs": [
    {
     "data": {
      "text/plain": [
       "array([[0, 0, 0, 0, 0, 0, 0, 0, 0, 0],\n",
       "       [0, 0, 0, 0, 0, 0, 0, 0, 0, 0],\n",
       "       [0, 0, 0, 0, 0, 0, 0, 0, 0, 0],\n",
       "       [0, 0, 0, 0, 0, 0, 0, 0, 0, 0],\n",
       "       [0, 0, 0, 0, 0, 0, 0, 0, 0, 0],\n",
       "       [0, 0, 0, 0, 0, 0, 0, 0, 0, 0],\n",
       "       [0, 0, 0, 0, 0, 0, 0, 0, 0, 0],\n",
       "       [0, 0, 0, 0, 0, 0, 0, 0, 0, 0],\n",
       "       [0, 0, 0, 0, 0, 0, 0, 0, 0, 0],\n",
       "       [0, 0, 0, 0, 0, 0, 0, 0, 0, 0]])"
      ]
     },
     "execution_count": 74,
     "metadata": {},
     "output_type": "execute_result"
    }
   ],
   "source": [
    "aa=[[1 for i in np.arange(0,10)] for i in np.arange(0,10)]\n",
    "np.matrix(aa)\n",
    "ab=[[1 for i in np.arange(0,10)] for i in np.arange(0,10)]\n",
    "np.matrix(ab)\n",
    "#np.add(aa,ab)\n",
    "np.subtract(aa,ab)"
   ]
  },
  {
   "cell_type": "code",
   "execution_count": 348,
   "metadata": {},
   "outputs": [
    {
     "data": {
      "text/plain": [
       "array([[1, 2, 3, 4, 5, 6]])"
      ]
     },
     "execution_count": 348,
     "metadata": {},
     "output_type": "execute_result"
    }
   ],
   "source": [
    "ff=np.array([[1,2,3],[4,5,6]])\n",
    "np.resize(ff,(1,6))\n"
   ]
  },
  {
   "cell_type": "code",
   "execution_count": 300,
   "metadata": {},
   "outputs": [
    {
     "data": {
      "text/plain": [
       "matrix([[3, 6],\n",
       "        [3, 6]])"
      ]
     },
     "execution_count": 300,
     "metadata": {},
     "output_type": "execute_result"
    }
   ],
   "source": [
    "s=np.matrix('1,2;1,2')\n",
    "ss=np.matrix('1,2;1,2')\n",
    "np.dot(s,ss)"
   ]
  },
  {
   "cell_type": "code",
   "execution_count": 302,
   "metadata": {},
   "outputs": [
    {
     "ename": "SyntaxError",
     "evalue": "invalid syntax (<ipython-input-302-e073c3f4165e>, line 33)",
     "output_type": "error",
     "traceback": [
      "\u001b[1;36m  File \u001b[1;32m\"<ipython-input-302-e073c3f4165e>\"\u001b[1;36m, line \u001b[1;32m33\u001b[0m\n\u001b[1;33m    0.29784984\u001b[0m\n\u001b[1;37m             ^\u001b[0m\n\u001b[1;31mSyntaxError\u001b[0m\u001b[1;31m:\u001b[0m invalid syntax\n"
     ]
    }
   ],
   "source": [
    "kk=[[ 3495.93305194]\n",
    " [ 2309.44205931]\n",
    " [-1538.43166525]\n",
    " [-4354.97176587]\n",
    " [-1722.1941443 ]\n",
    " [ -116.45783507]\n",
    " [  511.60215533]\n",
    " [-1865.86281056]\n",
    " [-3405.56526365]\n",
    " [-2026.9890001 ]\n",
    " [ -653.545974  ]\n",
    " [ 1262.77805592]\n",
    " [-3273.07703311]\n",
    " [ 1800.15452869]\n",
    " [-1289.69855766]\n",
    " [-2401.52034368]\n",
    " [-2761.8326662 ]\n",
    " [   61.10424664]\n",
    " [ -343.83145781]\n",
    " [-1160.72317054]\n",
    " [-2545.96158699]\n",
    " [ 2951.45933329]\n",
    " [ 1627.13837676]\n",
    " [ 1204.17734677]\n",
    " [ 4157.50499083]\n",
    " [ 2939.26044339]\n",
    " [  981.93032985]\n",
    " [-3940.7161395 ]\n",
    " [-6506.05743237]\n",
    " [-4382.93828813]]\n",
    "kkk=[-0.83531214\n",
    "     -1.03067013 \n",
    "     0.29784984\n",
    "     0.62321164\n",
    "     -1.7832455 \n",
    "     -0.44610049\n",
    "  0.23478798  0.82816775  0.10016847  0.37661515 -0.02132568  0.53276125\n",
    " -1.22000654  0.79959899 -0.72478409  0.05631258 -0.75506897  0.15592068\n",
    "  0.01298866 -0.46866541 -0.15002919  1.40475922  1.30763051  0.32020513\n",
    " -0.11282627  0.98082362  1.87972589  0.80133476  0.05545351  1.10746091]\n",
    "np.add(kk,kkk)\n"
   ]
  },
  {
   "cell_type": "code",
   "execution_count": null,
   "metadata": {
    "collapsed": true
   },
   "outputs": [],
   "source": []
  }
 ],
 "metadata": {
  "kernelspec": {
   "display_name": "Python 3",
   "language": "python",
   "name": "python3"
  },
  "language_info": {
   "codemirror_mode": {
    "name": "ipython",
    "version": 3
   },
   "file_extension": ".py",
   "mimetype": "text/x-python",
   "name": "python",
   "nbconvert_exporter": "python",
   "pygments_lexer": "ipython3",
   "version": "3.6.1"
  }
 },
 "nbformat": 4,
 "nbformat_minor": 2
}
