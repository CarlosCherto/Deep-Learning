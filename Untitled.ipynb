{
 "cells": [
  {
   "cell_type": "code",
   "execution_count": 1,
   "metadata": {
    "collapsed": true
   },
   "outputs": [],
   "source": [
    "import random\n",
    "from base64 import b64decode\n",
    "from json import loads\n",
    "import numpy as np\n",
    "import matplotlib.pyplot as plt\n",
    "%matplotlib inline\n",
    "from sklearn.cluster import KMeans\n",
    "import sklearn\n",
    "from scipy.stats import mode\n",
    "from sklearn.metrics import confusion_matrix\n",
    "import seaborn as sns; sns.set()"
   ]
  },
  {
   "cell_type": "code",
   "execution_count": 2,
   "metadata": {
    "collapsed": true
   },
   "outputs": [],
   "source": [
    "def ler(x):\n",
    "\n",
    "    digit = loads(x)\n",
    "    array = np.fromstring(b64decode(digit[\"data\"]),dtype=np.ubyte)\n",
    "    array = array.astype(np.float64)\n",
    "    return (digit[\"label\"], array)"
   ]
  },
  {
   "cell_type": "code",
   "execution_count": 3,
   "metadata": {
    "collapsed": true
   },
   "outputs": [],
   "source": [
    "with open(\"digits.base64.json\",\"r\") as f:\n",
    "    digits = map(ler, f.readlines())\n",
    "digits=list(digits)"
   ]
  },
  {
   "cell_type": "code",
   "execution_count": 4,
   "metadata": {
    "collapsed": true
   },
   "outputs": [],
   "source": [
    "def display_digit(digit, labeled = True, title = \"\"):\n",
    "    if labeled:\n",
    "        digit = digit[1]\n",
    "    image = digit\n",
    "    plt.figure()\n",
    "    fig = plt.imshow(image.reshape(28,28))\n",
    "    fig.set_cmap('gray_r')\n",
    "    fig.axes.get_xaxis().set_visible(False)\n",
    "    fig.axes.get_yaxis().set_visible(False)\n",
    "    if title != \"\":\n",
    "        plt.title(\"Inferred label: \" + str(title))"
   ]
  },
  {
   "cell_type": "code",
   "execution_count": 5,
   "metadata": {
    "collapsed": true
   },
   "outputs": [],
   "source": [
    "new_digits=[]\n",
    "cont=0\n",
    "while cont<len(digits):\n",
    "    new_digits.append(digits[cont][1])\n",
    "    cont+=1"
   ]
  },
  {
   "cell_type": "code",
   "execution_count": 6,
   "metadata": {
    "collapsed": true
   },
   "outputs": [],
   "source": [
    "digits_treino=digits[:len(digits)*5//6]\n",
    "digits_val=digits[len(digits)*5//6:]\n",
    "new_digits_treino=new_digits[:len(new_digits)*5//6]\n",
    "new_digits_val=new_digits[len(new_digits)*5//6:]"
   ]
  },
  {
   "cell_type": "code",
   "execution_count": 7,
   "metadata": {
    "collapsed": true
   },
   "outputs": [],
   "source": [
    "r=[]\n",
    "y=[]\n",
    "cont=0\n",
    "while cont<len(digits):\n",
    "    r.append(digits[cont][0])\n",
    "    cont+=1\n",
    "y=[[[0] for i in np.arange(0,10)] for j in np.arange(0,60000)]\n",
    "cont=0\n",
    "while cont<len(digits):\n",
    "    y[cont][r[cont]][0]=1\n",
    "    cont+=1"
   ]
  },
  {
   "cell_type": "markdown",
   "metadata": {},
   "source": [
    "Neural Network"
   ]
  },
  {
   "cell_type": "code",
   "execution_count": 21,
   "metadata": {
    "collapsed": true
   },
   "outputs": [],
   "source": [
    "def sig(x, der=False):\n",
    "    \n",
    "    if der:\n",
    "        return sig(x)*(1-sig(x))\n",
    "    \n",
    "    return 1/(1+np.exp(-x))"
   ]
  },
  {
   "cell_type": "code",
   "execution_count": 83,
   "metadata": {
    "collapsed": true
   },
   "outputs": [],
   "source": [
    "def feedforward(i,w,b):\n",
    "    z = []\n",
    "    a = []\n",
    "    a.append(i)\n",
    "    cont=0\n",
    "    while cont<len(w):\n",
    "        z.append(np.dot(w[cont],a[cont])+b[cont])\n",
    "        var = sig(z[cont])\n",
    "        a.append(var)\n",
    "        cont+=1\n",
    "    return a,z"
   ]
  },
  {
   "cell_type": "code",
   "execution_count": 84,
   "metadata": {
    "collapsed": true
   },
   "outputs": [],
   "source": [
    "def custox(a, cont):\n",
    "    var = a[len(a)-1]-y[cont]\n",
    "    var = np.linalg.norm(var)\n",
    "    cx = (var**2)/2\n",
    "    return cx"
   ]
  },
  {
   "cell_type": "code",
   "execution_count": 85,
   "metadata": {},
   "outputs": [
    {
     "data": {
      "text/plain": [
       "[[], [], array([[  2.37238180e-06],\n",
       "        [  1.07180987e-01],\n",
       "        [  2.70341153e-03],\n",
       "        [  7.10456856e-02],\n",
       "        [  7.11847726e-03],\n",
       "        [ -1.68321679e-03],\n",
       "        [  1.17649240e-01],\n",
       "        [  4.33390243e-04],\n",
       "        [  4.13045052e-04],\n",
       "        [  8.19130778e-02]])]"
      ]
     },
     "execution_count": 85,
     "metadata": {},
     "output_type": "execute_result"
    }
   ],
   "source": [
    "#BP1\n",
    "delta = [[] for i in np.arange(0,len(a))]\n",
    "delta[len(delta)-1] = np.multiply(a[len(a)-1]-y[cont],sig(z[len(z)-1],der=True))\n",
    "#BP2\n",
    "cont=len(delta)-2\n",
    "delta"
   ]
  },
  {
   "cell_type": "code",
   "execution_count": 94,
   "metadata": {},
   "outputs": [
    {
     "data": {
      "text/plain": [
       "30"
      ]
     },
     "execution_count": 94,
     "metadata": {},
     "output_type": "execute_result"
    }
   ],
   "source": [
    "len(np.dot(w[1].transpose(),delta[2]))"
   ]
  },
  {
   "cell_type": "code",
   "execution_count": 106,
   "metadata": {
    "collapsed": true
   },
   "outputs": [],
   "source": [
    "def BP(a,z,cont):\n",
    "    #BP1\n",
    "    delta = [[] for i in np.arange(0,len(a))]\n",
    "    delta[len(delta)-1] = np.multiply(a[len(a)-1]-y[cont],sig(z[len(z)-1],der=True))\n",
    "    #BP2\n",
    "    cont=len(delta)-2\n",
    "    while cont >= 0:\n",
    "        var=np.dot(w[cont].transpose(),delta[cont+1])\n",
    "        var2=sig(z[len(z)-1-cont],der=True)\n",
    "        var=np.multiply(var,var2)\n",
    "        delta[cont].append(var)\n",
    "        cont-=1\n",
    "    #BP3\n",
    "    deriv_b=[[] for i in np.arange(0,len(size)-1)]\n",
    "    l=len(size)-2\n",
    "    cont=0\n",
    "    while l>=0:\n",
    "        while cont<len(b[l]):\n",
    "            deriv_b[l].append(\n",
    "                delta[l][cont])\n",
    "            cont+=1\n",
    "        l-=1\n",
    "    #BP4\n",
    "    deriv_w=[[] for i in np.arange(0,len(size)-1)]\n",
    "    l=len(size)-2\n",
    "    cont=0\n",
    "    while l>=0:\n",
    "        while cont<len(w[l]):\n",
    "            deriv_w[l].append(a[l-1][cont]*delta[l][cont])\n",
    "            cont+=1"
   ]
  },
  {
   "cell_type": "code",
   "execution_count": 107,
   "metadata": {
    "collapsed": true
   },
   "outputs": [],
   "source": [
    "#Criamos uma lista que armazena o número de neurônios de cada camada\n",
    "size=[784,30,10]\n",
    "b = [np.random.randn(y, 1) for y in size[1:]]\n",
    "w = [np.random.randn(y, x) for x, y in zip(size[:-1], size[1:])]"
   ]
  },
  {
   "cell_type": "code",
   "execution_count": 108,
   "metadata": {},
   "outputs": [
    {
     "name": "stderr",
     "output_type": "stream",
     "text": [
      "C:\\Users\\User-pc\\Anaconda\\lib\\site-packages\\ipykernel_launcher.py:6: RuntimeWarning: overflow encountered in exp\n",
      "  \n"
     ]
    },
    {
     "ename": "IndexError",
     "evalue": "list index out of range",
     "output_type": "error",
     "traceback": [
      "\u001b[1;31m---------------------------------------------------------------------------\u001b[0m",
      "\u001b[1;31mIndexError\u001b[0m                                Traceback (most recent call last)",
      "\u001b[1;32m<ipython-input-108-25a34cf5373c>\u001b[0m in \u001b[0;36m<module>\u001b[1;34m()\u001b[0m\n\u001b[0;32m      4\u001b[0m     \u001b[0mi\u001b[0m\u001b[1;33m=\u001b[0m\u001b[0mnp\u001b[0m\u001b[1;33m.\u001b[0m\u001b[0mresize\u001b[0m\u001b[1;33m(\u001b[0m\u001b[0mnew_digits\u001b[0m\u001b[1;33m[\u001b[0m\u001b[0mcont\u001b[0m\u001b[1;33m]\u001b[0m\u001b[1;33m,\u001b[0m\u001b[1;33m(\u001b[0m\u001b[1;36m784\u001b[0m\u001b[1;33m,\u001b[0m\u001b[1;36m1\u001b[0m\u001b[1;33m)\u001b[0m\u001b[1;33m)\u001b[0m\u001b[1;33m\u001b[0m\u001b[0m\n\u001b[0;32m      5\u001b[0m     \u001b[0mp\u001b[0m \u001b[1;33m=\u001b[0m \u001b[0mfeedforward\u001b[0m\u001b[1;33m(\u001b[0m\u001b[0mi\u001b[0m\u001b[1;33m,\u001b[0m\u001b[0mw\u001b[0m\u001b[1;33m,\u001b[0m\u001b[0mb\u001b[0m\u001b[1;33m)\u001b[0m\u001b[1;33m\u001b[0m\u001b[0m\n\u001b[1;32m----> 6\u001b[1;33m     \u001b[0mBP\u001b[0m\u001b[1;33m(\u001b[0m\u001b[0ma\u001b[0m\u001b[1;33m,\u001b[0m\u001b[0mz\u001b[0m\u001b[1;33m,\u001b[0m\u001b[0mcont\u001b[0m\u001b[1;33m)\u001b[0m\u001b[1;33m\u001b[0m\u001b[0m\n\u001b[0m\u001b[0;32m      7\u001b[0m     \u001b[0mcustos\u001b[0m\u001b[1;33m.\u001b[0m\u001b[0mappend\u001b[0m\u001b[1;33m(\u001b[0m\u001b[0mcustox\u001b[0m\u001b[1;33m(\u001b[0m\u001b[0ma\u001b[0m\u001b[1;33m,\u001b[0m\u001b[0mcont\u001b[0m\u001b[1;33m)\u001b[0m\u001b[1;33m)\u001b[0m\u001b[1;33m\u001b[0m\u001b[0m\n\u001b[0;32m      8\u001b[0m     \u001b[0mcont\u001b[0m\u001b[1;33m+=\u001b[0m\u001b[1;36m1\u001b[0m\u001b[1;33m\u001b[0m\u001b[0m\n",
      "\u001b[1;32m<ipython-input-106-f20fae4ca2e7>\u001b[0m in \u001b[0;36mBP\u001b[1;34m(a, z, cont)\u001b[0m\n\u001b[0;32m     19\u001b[0m             deriv_b[l].append(\n\u001b[0;32m     20\u001b[0m                 \u001b[0mdelta\u001b[0m\u001b[1;33m[\u001b[0m\u001b[0ml\u001b[0m\u001b[1;33m]\u001b[0m\u001b[1;33m\u001b[0m\u001b[0m\n\u001b[1;32m---> 21\u001b[1;33m                 [cont])\n\u001b[0m\u001b[0;32m     22\u001b[0m             \u001b[0mcont\u001b[0m\u001b[1;33m+=\u001b[0m\u001b[1;36m1\u001b[0m\u001b[1;33m\u001b[0m\u001b[0m\n\u001b[0;32m     23\u001b[0m         \u001b[0ml\u001b[0m\u001b[1;33m-=\u001b[0m\u001b[1;36m1\u001b[0m\u001b[1;33m\u001b[0m\u001b[0m\n",
      "\u001b[1;31mIndexError\u001b[0m: list index out of range"
     ]
    }
   ],
   "source": [
    "custos=[]\n",
    "cont=0\n",
    "while cont<len(new_digits):\n",
    "    i=np.resize(new_digits[cont],(784,1))\n",
    "    p = feedforward(i,w,b)\n",
    "    BP(a,z,cont)\n",
    "    custos.append(custox(a,cont))\n",
    "    cont+=1"
   ]
  },
  {
   "cell_type": "code",
   "execution_count": 73,
   "metadata": {},
   "outputs": [
    {
     "name": "stderr",
     "output_type": "stream",
     "text": [
      "C:\\Users\\User-pc\\Anaconda\\lib\\site-packages\\ipykernel_launcher.py:6: RuntimeWarning: overflow encountered in exp\n",
      "  \n"
     ]
    },
    {
     "data": {
      "text/plain": [
       "10"
      ]
     },
     "execution_count": 73,
     "metadata": {},
     "output_type": "execute_result"
    }
   ],
   "source": [
    "i=np.resize(new_digits[0],(784,1))\n",
    "p = feedforward(i,w,b)\n",
    "a=p[0]\n",
    "z=p[1]\n",
    "len(z[1])"
   ]
  },
  {
   "cell_type": "code",
   "execution_count": 61,
   "metadata": {},
   "outputs": [
    {
     "name": "stderr",
     "output_type": "stream",
     "text": [
      "C:\\Users\\User-pc\\Anaconda\\lib\\site-packages\\ipykernel_launcher.py:6: RuntimeWarning: overflow encountered in exp\n",
      "  \n"
     ]
    }
   ],
   "source": [
    "z = []\n",
    "a = []\n",
    "a.append(i)\n",
    "cont=0\n",
    "while cont<len(w):\n",
    "    z.append(np.dot(w[cont],a[cont])+b[cont])\n",
    "    var = sig(z[cont])\n",
    "    a.append(var)\n",
    "    cont+=1"
   ]
  },
  {
   "cell_type": "code",
   "execution_count": 64,
   "metadata": {},
   "outputs": [
    {
     "data": {
      "text/plain": [
       "3"
      ]
     },
     "execution_count": 64,
     "metadata": {},
     "output_type": "execute_result"
    }
   ],
   "source": [
    "len(a)"
   ]
  },
  {
   "cell_type": "code",
   "execution_count": null,
   "metadata": {
    "collapsed": true
   },
   "outputs": [],
   "source": []
  }
 ],
 "metadata": {
  "kernelspec": {
   "display_name": "Python 3",
   "language": "python",
   "name": "python3"
  },
  "language_info": {
   "codemirror_mode": {
    "name": "ipython",
    "version": 3
   },
   "file_extension": ".py",
   "mimetype": "text/x-python",
   "name": "python",
   "nbconvert_exporter": "python",
   "pygments_lexer": "ipython3",
   "version": "3.6.1"
  }
 },
 "nbformat": 4,
 "nbformat_minor": 2
}
